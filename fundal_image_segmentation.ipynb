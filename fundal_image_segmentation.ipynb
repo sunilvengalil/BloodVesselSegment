{
  "nbformat": 4,
  "nbformat_minor": 0,
  "metadata": {
    "accelerator": "GPU",
    "colab": {
      "name": "fundal_image_segmentation.ipynb",
      "provenance": [],
      "collapsed_sections": [],
      "authorship_tag": "ABX9TyP1StYd4bb3IC5l1kio5cXq",
      "include_colab_link": true
    },
    "kernelspec": {
      "display_name": "Python 3",
      "name": "python3"
    }
  },
  "cells": [
    {
      "cell_type": "markdown",
      "metadata": {
        "id": "view-in-github",
        "colab_type": "text"
      },
      "source": [
        "<a href=\"https://colab.research.google.com/github/sunilvengalil/BloodVesselSegment/blob/master/fundal_image_segmentation.ipynb\" target=\"_parent\"><img src=\"https://colab.research.google.com/assets/colab-badge.svg\" alt=\"Open In Colab\"/></a>"
      ]
    },
    {
      "cell_type": "markdown",
      "metadata": {
        "id": "hgNpdlQe4hRo"
      },
      "source": [
        "# Accessing Google colab\r\n",
        "\r\n",
        "1. Go to google colab\r\n",
        "\r\n",
        "   https://colab.research.google.com/notebooks/intro.ipynb\r\n",
        "\r\n",
        "2. Create a new notebook using menu File -> New Notebook\r\n",
        " \r\n",
        "3. Rename the notebook to fundal_image_segmentation.ipynb\r\n",
        "\r\n",
        "4. Change the runtime enviroment to GPU\r\n",
        "\r\n",
        "\r\n",
        "\r\n",
        "> Go to Menu Runtime -> Change Runtime type. From the dropdown select 'GPU'. Click on 'Save' button\r\n"
      ]
    },
    {
      "cell_type": "markdown",
      "metadata": {
        "id": "iNAPhCLiln2o"
      },
      "source": [
        "# 1. Mount google drive\r\n",
        "Mount `MyDrive` in your google drive as  `/content/gdrive`\r\n",
        "\r\n",
        "While running the following cell, you will be prompted to click on a link in order to generate access key to access your google drive. \r\n",
        "\r\n",
        "Copy paste the acess key into the input field and press Enter"
      ]
    },
    {
      "cell_type": "code",
      "metadata": {
        "colab": {
          "base_uri": "https://localhost:8080/"
        },
        "id": "BPqAM5TACXFA",
        "outputId": "a086c584-e5ee-4fe4-dc83-b09850aaaaf7"
      },
      "source": [
        "from google.colab import drive\n",
        "drive.mount(\"/content/gdrive\")\n",
        "\n"
      ],
      "execution_count": 1,
      "outputs": [
        {
          "output_type": "stream",
          "text": [
            "Drive already mounted at /content/gdrive; to attempt to forcibly remount, call drive.mount(\"/content/gdrive\", force_remount=True).\n"
          ],
          "name": "stdout"
        }
      ]
    },
    {
      "cell_type": "markdown",
      "metadata": {
        "id": "-Vil7eDQKI8b"
      },
      "source": [
        "Check the current working directory and list the files/folders in current directory"
      ]
    },
    {
      "cell_type": "code",
      "metadata": {
        "colab": {
          "base_uri": "https://localhost:8080/"
        },
        "id": "lWx6KBu8KrXo",
        "outputId": "f71a6b6e-3e10-4ced-f834-eb32d8b6bc22"
      },
      "source": [
        "!pwd\r\n",
        "!ls"
      ],
      "execution_count": 2,
      "outputs": [
        {
          "output_type": "stream",
          "text": [
            "/content\n",
            "gdrive\tsample_data\n"
          ],
          "name": "stdout"
        }
      ]
    },
    {
      "cell_type": "markdown",
      "metadata": {
        "id": "yAN0amHeYlUX"
      },
      "source": [
        "# 2. Get the code from github\n",
        "\n",
        "Create a new directory `fundal_image` and download code and data from github `https://github.com/juntang-zhuang/LadderNet.git`"
      ]
    },
    {
      "cell_type": "code",
      "metadata": {
        "colab": {
          "base_uri": "https://localhost:8080/"
        },
        "id": "hMB9Fbf-PQrX",
        "outputId": "587206f6-362c-459e-b7e9-14522212d79e"
      },
      "source": [
        "%cd /content/gdrive/MyDrive\n",
        "#!mkdir fundal_image\n",
        "%cd fundal_image\n",
        "#!git clone https://github.com/juntang-zhuang/LadderNet.git"
      ],
      "execution_count": 3,
      "outputs": [
        {
          "output_type": "stream",
          "text": [
            "/content/gdrive/MyDrive\n",
            "/content/gdrive/MyDrive/fundal_image\n"
          ],
          "name": "stdout"
        }
      ]
    },
    {
      "cell_type": "markdown",
      "metadata": {
        "id": "zQsNsC9OFkca"
      },
      "source": [
        "# 3. Display sample training image from DRIVE dataset"
      ]
    },
    {
      "cell_type": "code",
      "metadata": {
        "id": "8AtgHxVXL7TH"
      },
      "source": [
        "from IPython.display import Image\n",
        "from matplotlib import pyplot as plt\n",
        "from PIL import Image\n",
        "%matplotlib inline"
      ],
      "execution_count": 4,
      "outputs": []
    },
    {
      "cell_type": "code",
      "metadata": {
        "colab": {
          "base_uri": "https://localhost:8080/",
          "height": 221
        },
        "id": "ShQNseUjFbtf",
        "outputId": "4dede263-98b0-4470-937f-4ba25db3e947"
      },
      "source": [
        "\n",
        "train_img = Image.open(\"/content/gdrive/MyDrive/fundal_image/LadderNet/DRIVE/training/images/21_training.tif\")\n",
        "train_mask = Image.open(\"/content/gdrive/MyDrive/fundal_image/LadderNet/DRIVE/training/mask/21_training_mask.gif\")\n",
        "train_gt = Image.open(\"/content/gdrive/MyDrive/fundal_image/LadderNet/DRIVE/training/1st_manual/21_manual1.gif\")\n",
        "\n",
        "fig = plt.figure(figsize= (10,20))\n",
        "ax = fig.add_subplot(1, 3, 1 )\n",
        "ax.imshow(train_img)\n",
        "ax2 = fig.add_subplot(1, 3, 2 )\n",
        "ax2.imshow(train_mask, cmap=\"Greys\")\n",
        "ax3 = fig.add_subplot(1, 3, 3 )\n",
        "ax3.imshow(train_gt, cmap=\"Greys\")\n",
        "\n",
        "plt.show()\n"
      ],
      "execution_count": 5,
      "outputs": [
        {
          "output_type": "display_data",
          "data": {
            "image/png": "[encoded data removed]",
            "text/plain": [
              "<Figure size 720x1440 with 3 Axes>"
            ]
          },
          "metadata": {
            "tags": [],
            "needs_background": "light"
          }
        }
      ]
    },
    {
      "cell_type": "markdown",
      "metadata": {
        "id": "Jf8gjl3Cp0FW"
      },
      "source": [
        "# 4. Edit the configuration file\r\n",
        "\r\n",
        "Open the file `gdrive/Mydrive/fundal_image/LadderNet/` configuration.txt and modify the values of following configuration parameters to below mentioned values\r\n",
        "\r\n",
        "```\r\n",
        "N_subimgs=1900\r\n",
        "N_epochs=200\r\n",
        "Batch_size=32\r\n",
        "average_mode = False\r\n",
        "```\r\n",
        "\r\n",
        "\r\n",
        "\r\n",
        "\r\n"
      ]
    },
    {
      "cell_type": "markdown",
      "metadata": {
        "id": "DXD78pkhKaAb"
      },
      "source": [
        "# Helper Functions"
      ]
    },
    {
      "cell_type": "code",
      "metadata": {
        "id": "J-JJRrqvDV7z"
      },
      "source": [
        "import h5py\n",
        "import numpy as np\n",
        "from PIL import Image\n",
        "from matplotlib import pyplot as plt\n",
        "\n",
        "def load_hdf5(infile):\n",
        "  with h5py.File(infile,\"r\") as f:  #\"with\" close the file after its nested commands\n",
        "    return f[\"image\"][()]\n",
        "\n",
        "def write_hdf5(arr,outfile):\n",
        "  with h5py.File(outfile,\"w\") as f:\n",
        "    f.create_dataset(\"image\", data=arr, dtype=arr.dtype)\n",
        "\n",
        "#convert RGB image in black and white\n",
        "def rgb2gray(rgb):\n",
        "    assert (len(rgb.shape)==4)  #4D arrays\n",
        "    assert (rgb.shape[1]==3)\n",
        "    bn_imgs = rgb[:,0,:,:]*0.299 + rgb[:,1,:,:]*0.587 + rgb[:,2,:,:]*0.114\n",
        "    bn_imgs = np.reshape(bn_imgs,(rgb.shape[0], 1, rgb.shape[2], rgb.shape[3]))\n",
        "    return bn_imgs\n",
        "\n",
        "# group a set of images row per columns\n",
        "def group_images(data, per_row):\n",
        "    assert data.shape[0]%per_row==0\n",
        "    assert (data.shape[1]==1 or data.shape[1]==3)\n",
        "    data = np.transpose(data,(0, 2, 3, 1))  #corect format for imshow\n",
        "    all_stripe = []\n",
        "    for i in range(int(data.shape[0]/per_row)):\n",
        "        stripe = data[i * per_row]\n",
        "        for k in range(i * per_row + 1, i * per_row+per_row):\n",
        "            stripe = np.concatenate((stripe, data[k]), axis=1)\n",
        "        all_stripe.append(stripe)\n",
        "    totimg = all_stripe[0]\n",
        "    for i in range(1, len(all_stripe)):\n",
        "        totimg = np.concatenate((totimg, all_stripe[i]), axis=0)\n",
        "    return totimg\n",
        "\n",
        "\n",
        "#visualize image (as PIL image, NOT as matplotlib!)\n",
        "def visualize(data,filename):\n",
        "    assert (len(data.shape)==3) #height*width*channels\n",
        "    img = None\n",
        "    if data.shape[2]==1:  #in case it is black and white\n",
        "        data = np.reshape(data,(data.shape[0],data.shape[1]))\n",
        "    if np.max(data)>1:\n",
        "        img = Image.fromarray(data.astype(np.uint8))   #the image is already 0-255\n",
        "    else:\n",
        "        img = Image.fromarray((data*255).astype(np.uint8))  #the image is between 0-1\n",
        "    img.save(filename + '.png')\n",
        "    return img\n",
        "\n",
        "\n",
        "def pred_to_imgs(pred, patch_height, patch_width, mode=\"original\"):\n",
        "    assert (len(pred.shape)==3)  #3D array: (Npatches,height*width,2)\n",
        "    assert (pred.shape[2]==2 )  #check the classes are 2\n",
        "    pred_images = np.empty((pred.shape[0],pred.shape[1]))  #(Npatches,height*width)\n",
        "    if mode==\"original\":\n",
        "        for i in range(pred.shape[0]):\n",
        "            for pix in range(pred.shape[1]):\n",
        "                pred_images[i,pix]=pred[i,pix,1]\n",
        "    elif mode==\"threshold\":\n",
        "        for i in range(pred.shape[0]):\n",
        "            for pix in range(pred.shape[1]):\n",
        "                if pred[i,pix,1]>=0.5:\n",
        "                    pred_images[i,pix]=1\n",
        "                else:\n",
        "                    pred_images[i,pix]=0\n",
        "    else:\n",
        "        print(\"mode \" +str(mode) +\" not recognized, it can be 'original' or 'threshold'\")\n",
        "        exit()\n",
        "    pred_images = np.reshape(pred_images,(pred_images.shape[0],1, patch_height, patch_width))\n",
        "    return pred_images\n",
        "\n",
        "def count_parameters(model):\n",
        "    return sum(p.numel() for p in model.parameters() if p.requires_grad)"
      ],
      "execution_count": 6,
      "outputs": []
    },
    {
      "cell_type": "markdown",
      "metadata": {
        "id": "_gUtY0SBl_Oz"
      },
      "source": [
        "# 5. Prepare training and test data \r\n",
        "\r\n",
        "Read the test and train data and save as hd5 file format"
      ]
    },
    {
      "cell_type": "code",
      "metadata": {
        "colab": {
          "base_uri": "https://localhost:8080/"
        },
        "id": "jJ9baOAfQFr-",
        "outputId": "35b948db-644c-44d0-a692-ba6de7ac1433"
      },
      "source": [
        "%cd LadderNet\n",
        "!python3 prepare_datasets_DRIVE.py"
      ],
      "execution_count": 7,
      "outputs": [
        {
          "output_type": "stream",
          "text": [
            "/content/gdrive/My Drive/fundal_image/LadderNet\n",
            "original image: 21_training.tif\n",
            "ground truth name: 21_manual1.gif\n",
            "border masks name: 21_training_mask.gif\n",
            "original image: 22_training.tif\n",
            "ground truth name: 22_manual1.gif\n",
            "border masks name: 22_training_mask.gif\n",
            "original image: 23_training.tif\n",
            "ground truth name: 23_manual1.gif\n",
            "border masks name: 23_training_mask.gif\n",
            "original image: 24_training.tif\n",
            "ground truth name: 24_manual1.gif\n",
            "border masks name: 24_training_mask.gif\n",
            "original image: 25_training.tif\n",
            "ground truth name: 25_manual1.gif\n",
            "border masks name: 25_training_mask.gif\n",
            "original image: 26_training.tif\n",
            "ground truth name: 26_manual1.gif\n",
            "border masks name: 26_training_mask.gif\n",
            "original image: 27_training.tif\n",
            "ground truth name: 27_manual1.gif\n",
            "border masks name: 27_training_mask.gif\n",
            "original image: 28_training.tif\n",
            "ground truth name: 28_manual1.gif\n",
            "border masks name: 28_training_mask.gif\n",
            "original image: 29_training.tif\n",
            "ground truth name: 29_manual1.gif\n",
            "border masks name: 29_training_mask.gif\n",
            "original image: 30_training.tif\n",
            "ground truth name: 30_manual1.gif\n",
            "border masks name: 30_training_mask.gif\n",
            "original image: 31_training.tif\n",
            "ground truth name: 31_manual1.gif\n",
            "border masks name: 31_training_mask.gif\n",
            "original image: 32_training.tif\n",
            "ground truth name: 32_manual1.gif\n",
            "border masks name: 32_training_mask.gif\n",
            "original image: 33_training.tif\n",
            "ground truth name: 33_manual1.gif\n",
            "border masks name: 33_training_mask.gif\n",
            "original image: 34_training.tif\n",
            "ground truth name: 34_manual1.gif\n",
            "border masks name: 34_training_mask.gif\n",
            "original image: 35_training.tif\n",
            "ground truth name: 35_manual1.gif\n",
            "border masks name: 35_training_mask.gif\n",
            "original image: 36_training.tif\n",
            "ground truth name: 36_manual1.gif\n",
            "border masks name: 36_training_mask.gif\n",
            "original image: 37_training.tif\n",
            "ground truth name: 37_manual1.gif\n",
            "border masks name: 37_training_mask.gif\n",
            "original image: 38_training.tif\n",
            "ground truth name: 38_manual1.gif\n",
            "border masks name: 38_training_mask.gif\n",
            "original image: 39_training.tif\n",
            "ground truth name: 39_manual1.gif\n",
            "border masks name: 39_training_mask.gif\n",
            "original image: 40_training.tif\n",
            "ground truth name: 40_manual1.gif\n",
            "border masks name: 40_training_mask.gif\n",
            "imgs max: 255.0\n",
            "imgs min: 0.0\n",
            "ground truth and border masks are correctly withih pixel value range 0-255 (black-white)\n",
            "saving train datasets\n",
            "original image: 01_test.tif\n",
            "ground truth name: 01_manual1.gif\n",
            "border masks name: 01_test_mask.gif\n",
            "original image: 02_test.tif\n",
            "ground truth name: 02_manual1.gif\n",
            "border masks name: 02_test_mask.gif\n",
            "original image: 03_test.tif\n",
            "ground truth name: 03_manual1.gif\n",
            "border masks name: 03_test_mask.gif\n",
            "original image: 04_test.tif\n",
            "ground truth name: 04_manual1.gif\n",
            "border masks name: 04_test_mask.gif\n",
            "original image: 05_test.tif\n",
            "ground truth name: 05_manual1.gif\n",
            "border masks name: 05_test_mask.gif\n",
            "original image: 06_test.tif\n",
            "ground truth name: 06_manual1.gif\n",
            "border masks name: 06_test_mask.gif\n",
            "original image: 07_test.tif\n",
            "ground truth name: 07_manual1.gif\n",
            "border masks name: 07_test_mask.gif\n",
            "original image: 08_test.tif\n",
            "ground truth name: 08_manual1.gif\n",
            "border masks name: 08_test_mask.gif\n",
            "original image: 09_test.tif\n",
            "ground truth name: 09_manual1.gif\n",
            "border masks name: 09_test_mask.gif\n",
            "original image: 10_test.tif\n",
            "ground truth name: 10_manual1.gif\n",
            "border masks name: 10_test_mask.gif\n",
            "original image: 11_test.tif\n",
            "ground truth name: 11_manual1.gif\n",
            "border masks name: 11_test_mask.gif\n",
            "original image: 12_test.tif\n",
            "ground truth name: 12_manual1.gif\n",
            "border masks name: 12_test_mask.gif\n",
            "original image: 13_test.tif\n",
            "ground truth name: 13_manual1.gif\n",
            "border masks name: 13_test_mask.gif\n",
            "original image: 14_test.tif\n",
            "ground truth name: 14_manual1.gif\n",
            "border masks name: 14_test_mask.gif\n",
            "original image: 15_test.tif\n",
            "ground truth name: 15_manual1.gif\n",
            "border masks name: 15_test_mask.gif\n",
            "original image: 16_test.tif\n",
            "ground truth name: 16_manual1.gif\n",
            "border masks name: 16_test_mask.gif\n",
            "original image: 17_test.tif\n",
            "ground truth name: 17_manual1.gif\n",
            "border masks name: 17_test_mask.gif\n",
            "original image: 18_test.tif\n",
            "ground truth name: 18_manual1.gif\n",
            "border masks name: 18_test_mask.gif\n",
            "original image: 19_test.tif\n",
            "ground truth name: 19_manual1.gif\n",
            "border masks name: 19_test_mask.gif\n",
            "original image: 20_test.tif\n",
            "ground truth name: 20_manual1.gif\n",
            "border masks name: 20_test_mask.gif\n",
            "imgs max: 255.0\n",
            "imgs min: 0.0\n",
            "ground truth and border masks are correctly withih pixel value range 0-255 (black-white)\n",
            "saving test datasets\n"
          ],
          "name": "stdout"
        }
      ]
    },
    {
      "cell_type": "markdown",
      "metadata": {
        "id": "g9Y1mVEToBm0"
      },
      "source": [
        "# 6. Train the ladder netwrok"
      ]
    },
    {
      "cell_type": "code",
      "metadata": {
        "colab": {
          "base_uri": "https://localhost:8080/"
        },
        "id": "IuGUjoYdAbYF",
        "outputId": "262df169-c4be-4e64-dec9-0433b331136a"
      },
      "source": [
        "%cd /content/gdrive/MyDrive/fundal_image/LadderNet/src\n"
      ],
      "execution_count": 8,
      "outputs": [
        {
          "output_type": "stream",
          "text": [
            "/content/gdrive/MyDrive/fundal_image/LadderNet/src\n"
          ],
          "name": "stdout"
        }
      ]
    },
    {
      "cell_type": "markdown",
      "metadata": {
        "id": "XyFgdpHCMCNz"
      },
      "source": [
        "## Load configuration settings"
      ]
    },
    {
      "cell_type": "code",
      "metadata": {
        "id": "3-_Ig6sKBwvk"
      },
      "source": [
        "from six.moves import configparser\n",
        "\n",
        "#=========  Load settings from Config file\n",
        "config = configparser.RawConfigParser()\n",
        "config.read('../configuration.txt')\n",
        "\n",
        "#path to the datasets\n",
        "path_data = config.get('data paths', 'path_local')\n",
        "#Experiment name\n",
        "name_experiment = config.get('experiment name', 'name')\n",
        "#training settings\n",
        "N_epochs = int(config.get('training settings', 'N_epochs'))\n",
        "batch_size = int(config.get('training settings', 'batch_size'))\n"
      ],
      "execution_count": 9,
      "outputs": []
    },
    {
      "cell_type": "markdown",
      "metadata": {
        "id": "WzflIkTPMVUg"
      },
      "source": [
        "## Define parameters"
      ]
    },
    {
      "cell_type": "code",
      "metadata": {
        "id": "oyDtAd3cBQ9P"
      },
      "source": [
        "import os\n",
        "import torch\n",
        "import numpy as np\n",
        "\n",
        "# log file\n",
        "if not os.path.exists('./logs'):\n",
        "    os.mkdir('logs')\n",
        "\n",
        "device = 'cuda' if torch.cuda.is_available() else 'cpu'\n",
        "\n",
        "start_epoch = 0  # start from epoch 0 or last checkpoint epoch\n",
        "total_epoch = N_epochs\n",
        "\n",
        "val_portion = 0.1\n",
        "\n",
        "lr_epoch = np.array([150,total_epoch])\n",
        "lr_value= np.array([0.001,0.0001])\n",
        "\n",
        "layers = 4\n",
        "filters = 10\n"
      ],
      "execution_count": 10,
      "outputs": []
    },
    {
      "cell_type": "markdown",
      "metadata": {
        "id": "mbg1rIlPWa23"
      },
      "source": [
        "## Build the network"
      ]
    },
    {
      "cell_type": "code",
      "metadata": {
        "id": "J9Hg_riBWTMI"
      },
      "source": [
        "import torch\n",
        "import torch.nn.functional as F  # Various activation functions\n",
        "import torch.nn as nn\n",
        "\n",
        "drop = 0.25\n",
        "\n",
        "def conv3x3(in_planes, out_planes, stride=1):\n",
        "    \"\"\"3x3 convolution with padding\"\"\"\n",
        "    return nn.Conv2d(in_planes, out_planes, kernel_size=3, stride=stride,\n",
        "                     padding=1, bias=True)\n",
        "\n",
        "\n",
        "class BasicBlock(nn.Module):\n",
        "    \"\"\"\n",
        "    Implements Shared weight residual block\n",
        "    \"\"\"\n",
        "    expansion = 1\n",
        "\n",
        "    def __init__(self, inplanes, planes, stride=1, downsample=None):\n",
        "        super(BasicBlock, self).__init__()\n",
        "        if inplanes!= planes:\n",
        "            self.conv0 = conv3x3(inplanes,planes)\n",
        "\n",
        "        self.inplanes = inplanes\n",
        "        self.planes = planes\n",
        "\n",
        "        self.conv1 = conv3x3(planes, planes, stride)\n",
        "        #self.bn1 = nn.BatchNorm2d(planes)\n",
        "        self.relu = nn.ReLU(inplace=True)\n",
        "        #self.conv2 = conv3x3(planes, planes)\n",
        "        #self.bn2 = nn.BatchNorm2d(planes)\n",
        "        self.downsample = downsample\n",
        "        self.stride = stride\n",
        "        self.drop = nn.Dropout2d(p=drop)\n",
        "\n",
        "    def forward(self, x):\n",
        "        if self.inplanes != self.planes:\n",
        "            x = self.conv0(x)\n",
        "            x = F.relu(x)\n",
        "\n",
        "        out = self.conv1(x)\n",
        "        #out = self.bn1(out)\n",
        "        out = self.relu(out)\n",
        "\n",
        "        out = self.drop(out)\n",
        "\n",
        "        out1 = self.conv1(out)\n",
        "        #out1 = self.relu(out1)\n",
        "\n",
        "        out2 = out1 + x\n",
        "\n",
        "        return F.relu(out2)\n",
        "\n",
        "\n",
        "class Bottleneck(nn.Module):\n",
        "    expansion = 4\n",
        "\n",
        "    def __init__(self, inplanes, planes, stride=1, downsample=None):\n",
        "        super(Bottleneck, self).__init__()\n",
        "        self.conv1 = nn.Conv2d(inplanes, planes, kernel_size=1, bias=False)\n",
        "        self.bn1 = nn.BatchNorm2d(planes)\n",
        "        self.conv2 = nn.Conv2d(planes, planes, kernel_size=3, stride=stride,\n",
        "                               padding=1, bias=False)\n",
        "        self.bn2 = nn.BatchNorm2d(planes)\n",
        "        self.conv3 = nn.Conv2d(planes, planes * self.expansion, kernel_size=1, bias=False)\n",
        "        self.bn3 = nn.BatchNorm2d(planes * self.expansion)\n",
        "        self.relu = nn.ReLU(inplace=True)\n",
        "        self.downsample = downsample\n",
        "        self.stride = stride\n",
        "\n",
        "    def forward(self, x):\n",
        "        residual = x\n",
        "\n",
        "        out = self.conv1(x)\n",
        "        out = self.bn1(out)\n",
        "        out = self.relu(out)\n",
        "\n",
        "        out = self.conv2(out)\n",
        "        out = self.bn2(out)\n",
        "        out = self.relu(out)\n",
        "\n",
        "        out = self.conv3(out)\n",
        "        out = self.bn3(out)\n",
        "\n",
        "        if self.downsample is not None:\n",
        "            residual = self.downsample(x)\n",
        "\n",
        "        out += residual\n",
        "        out = self.relu(out)\n",
        "\n",
        "        return out\n",
        "\n",
        "class Initial_LadderBlock(nn.Module):\n",
        "\n",
        "    def __init__(self, planes, layers, kernel=3, block=BasicBlock, inplanes = 3):\n",
        "        super().__init__()\n",
        "        self.planes = planes\n",
        "        self.layers = layers\n",
        "        self.kernel = kernel\n",
        "\n",
        "        self.padding = int((kernel-1)/2)\n",
        "        self.inconv = nn.Conv2d(in_channels=inplanes,out_channels=planes,\n",
        "                                kernel_size=3,stride=1,padding=1,bias=True)\n",
        "\n",
        "        # create module list for down branch\n",
        "        self.down_module_list = nn.ModuleList()\n",
        "        for i in range(0, layers):\n",
        "            self.down_module_list.append(block(planes*(2**i), planes*(2**i)))\n",
        "\n",
        "        # use strided conv instead of poooling\n",
        "        self.down_conv_list = nn.ModuleList()\n",
        "        for i in range(0,layers):\n",
        "            self.down_conv_list.append(nn.Conv2d(planes*2**i,\n",
        "                                                 planes*2**(i+1),\n",
        "                                                 stride=2,\n",
        "                                                 kernel_size=kernel,\n",
        "                                                 padding=self.padding))\n",
        "\n",
        "        # create module for bottom block\n",
        "        self.bottom = block(planes*(2**layers),\n",
        "                            planes*(2**layers))\n",
        "\n",
        "        # create module list for up branch\n",
        "        self.up_conv_list = nn.ModuleList()\n",
        "        self.up_dense_list = nn.ModuleList()\n",
        "        for i in range(0, layers):\n",
        "            self.up_conv_list.append(nn.ConvTranspose2d(in_channels=planes*2**(layers-i),\n",
        "                                                        out_channels=planes*2**max(0,layers-i-1),\n",
        "                                                        kernel_size=3,\n",
        "                                                        stride=2,\n",
        "                                                        padding=1,\n",
        "                                                        output_padding=1,\n",
        "                                                        bias=True)\n",
        "                                     )\n",
        "            self.up_dense_list.append(block(planes*2**max(0,layers-i-1), \n",
        "                                            planes*2**max(0,layers-i-1)))\n",
        "\n",
        "\n",
        "    def forward(self, x):\n",
        "        out = self.inconv(x)\n",
        "        out = F.relu(out)\n",
        "\n",
        "        down_out = []\n",
        "        # down branch\n",
        "        for i in range(0, self.layers):\n",
        "            out = self.down_module_list[i](out)\n",
        "            down_out.append(out)\n",
        "            out = self.down_conv_list[i](out)\n",
        "            out = F.relu(out)\n",
        "\n",
        "        # bottom branch\n",
        "        out = self.bottom(out)\n",
        "        bottom = out\n",
        "\n",
        "        # up branch\n",
        "        up_out = []\n",
        "        up_out.append(bottom)\n",
        "\n",
        "        for j in range(0, self.layers):\n",
        "            out = self.up_conv_list[j](out) + down_out[self.layers-j-1]\n",
        "            #out = F.relu(out)\n",
        "            out = self.up_dense_list[j](out)\n",
        "            up_out.append(out)\n",
        "\n",
        "        return up_out\n",
        "\n",
        "class LadderBlock(nn.Module):\n",
        "\n",
        "    def __init__(self,planes,layers,kernel=3,block=BasicBlock,inplanes = 3):\n",
        "        super().__init__()\n",
        "        self.planes = planes\n",
        "        self.layers = layers\n",
        "        self.kernel = kernel\n",
        "\n",
        "        self.padding = int((kernel-1)/2)\n",
        "        self.inconv = block(planes,planes)\n",
        "\n",
        "        # create module list for down branch\n",
        "        self.down_module_list = nn.ModuleList()\n",
        "        for i in range(0,layers):\n",
        "            self.down_module_list.append(block(planes*(2**i),planes*(2**i)))\n",
        "\n",
        "        # use strided conv instead of poooling\n",
        "        self.down_conv_list = nn.ModuleList()\n",
        "        for i in range(0,layers):\n",
        "            self.down_conv_list.append(nn.Conv2d(planes*2**i,planes*2**(i+1),stride=2,kernel_size=kernel,padding=self.padding))\n",
        "\n",
        "        # create module for bottom block\n",
        "        self.bottom = block(planes*(2**layers),planes*(2**layers))\n",
        "\n",
        "        # create module list for up branch\n",
        "        self.up_conv_list = nn.ModuleList()\n",
        "        self.up_dense_list = nn.ModuleList()\n",
        "        for i in range(0, layers):\n",
        "            self.up_conv_list.append(nn.ConvTranspose2d(planes*2**(layers-i), planes*2**max(0,layers-i-1), kernel_size=3,\n",
        "                                                        stride=2,padding=1,output_padding=1,bias=True))\n",
        "            self.up_dense_list.append(block(planes*2**max(0,layers-i-1),planes*2**max(0,layers-i-1)))\n",
        "\n",
        "\n",
        "    def forward(self, x):\n",
        "        out = self.inconv(x[-1])\n",
        "\n",
        "        down_out = []\n",
        "        # down branch\n",
        "        for i in range(0,self.layers):\n",
        "            out = out + x[-i-1]\n",
        "            out = self.down_module_list[i](out)\n",
        "            down_out.append(out)\n",
        "\n",
        "            out = self.down_conv_list[i](out)\n",
        "            out = F.relu(out)\n",
        "\n",
        "        # bottom branch\n",
        "        out = self.bottom(out)\n",
        "        bottom = out\n",
        "\n",
        "        # up branch\n",
        "        up_out = []\n",
        "        up_out.append(bottom)\n",
        "\n",
        "        for j in range(0,self.layers):\n",
        "            out = self.up_conv_list[j](out) + down_out[self.layers-j-1]\n",
        "            #out = F.relu(out)\n",
        "            out = self.up_dense_list[j](out)\n",
        "            up_out.append(out)\n",
        "\n",
        "        return up_out\n",
        "\n",
        "class Final_LadderBlock(nn.Module):\n",
        "\n",
        "    def __init__(self,planes,layers,kernel=3,block=BasicBlock,inplanes = 3):\n",
        "        super().__init__()\n",
        "        self.block = LadderBlock(planes,layers,kernel=kernel,block=block)\n",
        "\n",
        "    def forward(self, x):\n",
        "        out = self.block(x)\n",
        "        return out[-1]\n",
        "\n",
        "class LadderNetv6(nn.Module):\n",
        "    def __init__(self,layers=3,filters=16,num_classes=2,inplanes=3):\n",
        "        super().__init__()\n",
        "        self.initial_block = Initial_LadderBlock(planes=filters,layers=layers,inplanes=inplanes)\n",
        "        #self.middle_block = LadderBlock(planes=filters,layers=layers)\n",
        "        self.final_block = Final_LadderBlock(planes=filters,layers=layers)\n",
        "        self.final = nn.Conv2d(in_channels=filters,out_channels=num_classes,kernel_size=1)\n",
        "\n",
        "    def forward(self,x):\n",
        "        out = self.initial_block(x)\n",
        "        #out = self.middle_block(out)\n",
        "        out = self.final_block(out)\n",
        "        out = self.final(out)\n",
        "        #out = F.relu(out)\n",
        "        out = F.log_softmax(out,dim=1)\n",
        "        return out"
      ],
      "execution_count": 11,
      "outputs": []
    },
    {
      "cell_type": "code",
      "metadata": {
        "colab": {
          "base_uri": "https://localhost:8080/"
        },
        "id": "jK2Pm7aYBooo",
        "outputId": "19feb91a-9e6d-470e-eda9-539751c32a1a"
      },
      "source": [
        "\n",
        "class LossMulti:\n",
        "    def __init__(self, jaccard_weight=0, class_weights=None, num_classes=1):\n",
        "        if class_weights is not None:\n",
        "            nll_weight = cuda(\n",
        "                torch.from_numpy(class_weights.astype(np.float32)))\n",
        "        else:\n",
        "            nll_weight = None\n",
        "        self.nll_loss = nn.NLLLoss2d(weight=nll_weight)\n",
        "        self.jaccard_weight = jaccard_weight\n",
        "        self.num_classes = num_classes\n",
        "\n",
        "    def __call__(self, outputs, targets):\n",
        "        loss = (1 - self.jaccard_weight) * self.nll_loss(outputs, targets)\n",
        "\n",
        "        if self.jaccard_weight:\n",
        "            eps = 1e-15\n",
        "            for cls in range(self.num_classes):\n",
        "                jaccard_target = (targets == cls).float()\n",
        "                jaccard_output = outputs[:, cls].exp()\n",
        "                intersection = (jaccard_output * jaccard_target).sum()\n",
        "\n",
        "                union = jaccard_output.sum() + jaccard_target.sum()\n",
        "                loss -= torch.log((intersection + eps) / (union - intersection + eps)) * self.jaccard_weight\n",
        "        return loss\n",
        "\n",
        "import torch.nn as nn\n",
        "\n",
        "import torch.optim as optim\n",
        "\n",
        "net = LadderNetv6(num_classes=2,layers=layers,filters=filters, inplanes=1)\n",
        "print(\"Toral number of parameters: \"+str(count_parameters(net)))\n",
        "\n",
        "check_path = 'LadderNetv65_layer_%d_filter_%d.pt7'% (layers,filters) #'UNet16.pt7'#'UNet_Resnet101.pt7'\n",
        "\n",
        "resume = False\n",
        "\n",
        "#criterion = torch.nn.NLLLoss2d()\n",
        "criterion = LossMulti(jaccard_weight=0.2)\n",
        "#criterion = CrossEntropy2d()\n",
        "\n",
        "#optimizer = optim.SGD(net.parameters(),\n",
        "#                     lr=lr_schedule[0], momentum=0.9, weight_decay=5e-4, nesterov=True)\n",
        "\n",
        "optimizer = optim.Adam(net.parameters(),lr=lr_value[0])\n"
      ],
      "execution_count": 12,
      "outputs": [
        {
          "output_type": "stream",
          "text": [
            "Toral number of parameters: 1381652\n"
          ],
          "name": "stdout"
        },
        {
          "output_type": "stream",
          "text": [
            "/usr/local/lib/python3.7/dist-packages/torch/nn/modules/loss.py:222: UserWarning: NLLLoss2d has been deprecated. Please use NLLLoss instead as a drop-in replacement and see https://pytorch.org/docs/master/nn.html#torch.nn.NLLLoss for more details.\n",
            "  warnings.warn(\"NLLLoss2d has been deprecated. \"\n"
          ],
          "name": "stderr"
        }
      ]
    },
    {
      "cell_type": "markdown",
      "metadata": {
        "id": "tN0e3OYMNBEE"
      },
      "source": [
        "## Define functions to preprocess images"
      ]
    },
    {
      "cell_type": "code",
      "metadata": {
        "id": "QCgTOkO5ENWw"
      },
      "source": [
        "###################################################\n",
        "#\n",
        "#   Script to pre-process the original imgs\n",
        "#\n",
        "##################################################\n",
        "\n",
        "\n",
        "import numpy as np\n",
        "from PIL import Image\n",
        "import cv2\n",
        "\n",
        "\n",
        "# My pre processing (use for both training and testing!)\n",
        "def my_PreProc(data):\n",
        "    assert(len(data.shape)==4)\n",
        "    assert (data.shape[1]==3)  #Use the original images\n",
        "    #black-white conversion\n",
        "    train_imgs = rgb2gray(data)\n",
        "    #my preprocessing:\n",
        "    train_imgs = dataset_normalized(train_imgs)\n",
        "    train_imgs = clahe_equalized(train_imgs)\n",
        "    train_imgs = adjust_gamma(train_imgs, 1.2)\n",
        "    train_imgs = train_imgs/255.  #reduce to 0-1 range\n",
        "    return train_imgs\n",
        "\n",
        "\n",
        "#============================================================\n",
        "#========= PRE PROCESSING FUNCTIONS ========================#\n",
        "#============================================================\n",
        "\n",
        "#==== histogram equalization\n",
        "def histo_equalized(imgs):\n",
        "    assert (len(imgs.shape)==4)  #4D arrays\n",
        "    assert (imgs.shape[1]==1)  #check the channel is 1\n",
        "    imgs_equalized = np.empty(imgs.shape)\n",
        "    for i in range(imgs.shape[0]):\n",
        "        imgs_equalized[i,0] = cv2.equalizeHist(np.array(imgs[i,0], dtype = np.uint8))\n",
        "    return imgs_equalized\n",
        "\n",
        "\n",
        "# CLAHE (Contrast Limited Adaptive Histogram Equalization)\n",
        "#adaptive histogram equalization is used. In this, image is divided into small blocks called \"tiles\" (tileSize is 8x8 by default in OpenCV). Then each of these blocks are histogram equalized as usual. So in a small area, histogram would confine to a small region (unless there is noise). If noise is there, it will be amplified. To avoid this, contrast limiting is applied. If any histogram bin is above the specified contrast limit (by default 40 in OpenCV), those pixels are clipped and distributed uniformly to other bins before applying histogram equalization. After equalization, to remove artifacts in tile borders, bilinear interpolation is applied\n",
        "def clahe_equalized(imgs):\n",
        "    assert (len(imgs.shape)==4)  #4D arrays\n",
        "    assert (imgs.shape[1]==1)  #check the channel is 1\n",
        "    #create a CLAHE object (Arguments are optional).\n",
        "    clahe = cv2.createCLAHE(clipLimit=2.0, tileGridSize=(8,8))\n",
        "    imgs_equalized = np.empty(imgs.shape)\n",
        "    for i in range(imgs.shape[0]):\n",
        "        imgs_equalized[i,0] = clahe.apply(np.array(imgs[i,0], dtype = np.uint8))\n",
        "    return imgs_equalized\n",
        "\n",
        "\n",
        "# ===== normalize over the dataset\n",
        "def dataset_normalized(imgs):\n",
        "    assert (len(imgs.shape)==4)  #4D arrays\n",
        "    assert (imgs.shape[1]==1)  #check the channel is 1\n",
        "    imgs_normalized = np.empty(imgs.shape)\n",
        "    imgs_std = np.std(imgs)\n",
        "    imgs_mean = np.mean(imgs)\n",
        "    imgs_normalized = (imgs-imgs_mean)/imgs_std\n",
        "    for i in range(imgs.shape[0]):\n",
        "        imgs_normalized[i] = ((imgs_normalized[i] - np.min(imgs_normalized[i])) / (np.max(imgs_normalized[i])-np.min(imgs_normalized[i])))*255\n",
        "    return imgs_normalized\n",
        "\n",
        "\n",
        "def adjust_gamma(imgs, gamma=1.0):\n",
        "    assert (len(imgs.shape)==4)  #4D arrays\n",
        "    assert (imgs.shape[1]==1)  #check the channel is 1\n",
        "    # build a lookup table mapping the pixel values [0, 255] to\n",
        "    # their adjusted gamma values\n",
        "    invGamma = 1.0 / gamma\n",
        "    table = np.array([((i / 255.0) ** invGamma) * 255 for i in np.arange(0, 256)]).astype(\"uint8\")\n",
        "    # apply gamma correction using the lookup table\n",
        "    new_imgs = np.empty(imgs.shape)\n",
        "    for i in range(imgs.shape[0]):\n",
        "        new_imgs[i,0] = cv2.LUT(np.array(imgs[i,0], dtype = np.uint8), table)\n",
        "    return new_imgs\n"
      ],
      "execution_count": 13,
      "outputs": []
    },
    {
      "cell_type": "markdown",
      "metadata": {
        "id": "AU7tTS8eNYfa"
      },
      "source": [
        "## Define functions to create training data"
      ]
    },
    {
      "cell_type": "code",
      "metadata": {
        "id": "tsQyWyyZCvaO"
      },
      "source": [
        "import random\n",
        "\n",
        "#extract patches randomly in the full training images\n",
        "#  -- Inside OR in full image\n",
        "def extract_random(full_imgs,full_masks, patch_h,patch_w, N_patches, inside=True):\n",
        "    if (N_patches%full_imgs.shape[0] != 0):\n",
        "        print(\"N_patches: plase enter a multiple of 20\")\n",
        "        exit()\n",
        "    assert (len(full_imgs.shape)==4 and len(full_masks.shape)==4)  #4D arrays\n",
        "    assert (full_imgs.shape[1]==1 or full_imgs.shape[1]==3)  #check the channel is 1 or 3\n",
        "    assert (full_masks.shape[1]==1)   #masks only black and white\n",
        "    assert (full_imgs.shape[2] == full_masks.shape[2] and full_imgs.shape[3] == full_masks.shape[3])\n",
        "    patches = np.empty((N_patches,full_imgs.shape[1],patch_h,patch_w))\n",
        "    patches_masks = np.empty((N_patches,full_masks.shape[1],patch_h,patch_w))\n",
        "    img_h = full_imgs.shape[2]  #height of the full image\n",
        "    img_w = full_imgs.shape[3] #width of the full image\n",
        "    # (0,0) in the center of the image\n",
        "    patch_per_img = int(N_patches/full_imgs.shape[0])  #N_patches equally divided in the full images\n",
        "    print(\"patches per full image: \" +str(patch_per_img))\n",
        "    iter_tot = 0   #iter over the total numbe rof patches (N_patches)\n",
        "    for i in range(full_imgs.shape[0]):  #loop over the full images\n",
        "        k=0\n",
        "        while k <patch_per_img:\n",
        "            x_center = random.randint(0+int(patch_w/2),img_w-int(patch_w/2))\n",
        "            # print \"x_center \" +str(x_center)\n",
        "            y_center = random.randint(0+int(patch_h/2),img_h-int(patch_h/2))\n",
        "            # print \"y_center \" +str(y_center)\n",
        "            #check whether the patch is fully contained in the FOV\n",
        "            if inside==True:\n",
        "                if is_patch_inside_FOV(x_center,y_center,img_w,img_h,patch_h)==False:\n",
        "                    continue\n",
        "            patch = full_imgs[i,:,y_center-int(patch_h/2):y_center+int(patch_h/2),x_center-int(patch_w/2):x_center+int(patch_w/2)]\n",
        "            patch_mask = full_masks[i,:,y_center-int(patch_h/2):y_center+int(patch_h/2),x_center-int(patch_w/2):x_center+int(patch_w/2)]\n",
        "            patches[iter_tot]=patch\n",
        "            patches_masks[iter_tot]=patch_mask\n",
        "            iter_tot +=1   #total\n",
        "            k+=1  #per full_img\n",
        "    return patches, patches_masks\n",
        "\n",
        "#data consinstency check\n",
        "def data_consistency_check(imgs,masks):\n",
        "    assert(len(imgs.shape)==len(masks.shape))\n",
        "    assert(imgs.shape[0]==masks.shape[0])\n",
        "    assert(imgs.shape[2]==masks.shape[2])\n",
        "    assert(imgs.shape[3]==masks.shape[3])\n",
        "    assert(masks.shape[1]==1)\n",
        "    assert(imgs.shape[1]==1 or imgs.shape[1]==3)\n",
        "\n",
        "# Load the original data and return the extracted patches for training/testing\n",
        "def get_data_training(DRIVE_train_imgs_original,\n",
        "                      DRIVE_train_groudTruth,\n",
        "                      patch_height,\n",
        "                      patch_width,\n",
        "                      N_subimgs,\n",
        "                      inside_FOV):\n",
        "    train_imgs_original = load_hdf5(DRIVE_train_imgs_original)\n",
        "    train_masks = load_hdf5(DRIVE_train_groudTruth) #masks always the same\n",
        "    # visualize(group_images(train_imgs_original[0:20,:,:,:],5),'imgs_train')#.show()  #check original imgs train\n",
        "\n",
        "\n",
        "    train_imgs = my_PreProc(train_imgs_original)\n",
        "    train_masks = train_masks/255.\n",
        "\n",
        "    train_imgs = train_imgs[:,:,9:574,:]  #cut bottom and top so now it is 565*565\n",
        "    train_masks = train_masks[:,:,9:574,:]  #cut bottom and top so now it is 565*565\n",
        "    data_consistency_check(train_imgs,train_masks)\n",
        "\n",
        "    #check masks are within 0-1\n",
        "    assert(np.min(train_masks)==0 and np.max(train_masks)==1)\n",
        "\n",
        "    print(\"\\ntrain images/masks shape:\")\n",
        "    print(train_imgs.shape)\n",
        "    print(\"train images range (min-max): \" +str(np.min(train_imgs)) +' - '+str(np.max(train_imgs)))\n",
        "    print(\"train masks are within 0-1\\n\")\n",
        "\n",
        "    #extract the TRAINING patches from the full images\n",
        "    patches_imgs_train, patches_masks_train = extract_random(train_imgs,train_masks,patch_height,patch_width,N_subimgs,inside_FOV)\n",
        "    data_consistency_check(patches_imgs_train, patches_masks_train)\n",
        "\n",
        "    print(\"\\ntrain PATCHES images/masks shape:\")\n",
        "    print(patches_imgs_train.shape)\n",
        "    print(\"train PATCHES images range (min-max): \" +str(np.min(patches_imgs_train)) +' - '+str(np.max(patches_imgs_train)))\n",
        "\n",
        "    return patches_imgs_train, patches_masks_train#, patches_imgs_test, patches_masks_test"
      ],
      "execution_count": 14,
      "outputs": []
    },
    {
      "cell_type": "markdown",
      "metadata": {
        "id": "DfX4dACKNnxy"
      },
      "source": [
        "## Define Dataset class"
      ]
    },
    {
      "cell_type": "code",
      "metadata": {
        "colab": {
          "base_uri": "https://localhost:8080/"
        },
        "id": "JRQ-PuBxCQbo",
        "outputId": "bd9f34c0-efa3-401d-b3fa-aba96b19d716"
      },
      "source": [
        "from torch.utils.data import Dataset, DataLoader\n",
        "\n",
        "#============ Load the data and divided in patches\n",
        "patches_imgs_train, patches_masks_train = get_data_training(\n",
        "    DRIVE_train_imgs_original = path_data + config.get('data paths', 'train_imgs_original'),\n",
        "    DRIVE_train_groudTruth = path_data + config.get('data paths', 'train_groundTruth'),  #masks\n",
        "    patch_height = int(config.get('data attributes', 'patch_height')),\n",
        "    patch_width = int(config.get('data attributes', 'patch_width')),\n",
        "    N_subimgs = int(config.get('training settings', 'N_subimgs')),\n",
        "    inside_FOV = config.getboolean('training settings', 'inside_FOV') #select the patches only inside the FOV  (default == True)\n",
        ")\n",
        "\n",
        "class TrainDataset(Dataset):\n",
        "    \"\"\"Endovis 2018 dataset.\"\"\"\n",
        "\n",
        "    def __init__(self, patches_imgs, patches_masks_train):\n",
        "        self.imgs = patches_imgs\n",
        "        self.masks = patches_masks_train\n",
        "\n",
        "    def __len__(self):\n",
        "        return self.imgs.shape[0]\n",
        "\n",
        "    def __getitem__(self, idx):\n",
        "        tmp = self.masks[idx]\n",
        "        tmp = np.squeeze(tmp,0)\n",
        "        return torch.from_numpy(self.imgs[idx,...]).float(), torch.from_numpy(tmp).long()\n",
        "\n",
        "val_ind = random.sample(range(patches_masks_train.shape[0]),int(np.floor(val_portion*patches_masks_train.shape[0])))\n",
        "\n",
        "train_ind =  set(range(patches_masks_train.shape[0])) - set(val_ind)\n",
        "train_ind = list(train_ind)\n",
        "\n",
        "train_set = TrainDataset(patches_imgs_train[train_ind,...],patches_masks_train[train_ind,...])\n",
        "train_loader = DataLoader(train_set, batch_size=batch_size,\n",
        "                          shuffle=True, num_workers=4)\n",
        "\n",
        "val_set = TrainDataset(patches_imgs_train[val_ind,...],patches_masks_train[val_ind,...])\n",
        "val_loader = DataLoader(val_set, batch_size=batch_size,\n",
        "                          shuffle=True, num_workers=4)\n",
        "\n"
      ],
      "execution_count": 15,
      "outputs": [
        {
          "output_type": "stream",
          "text": [
            "\n",
            "train images/masks shape:\n",
            "(20, 1, 565, 565)\n",
            "train images range (min-max): 0.0 - 1.0\n",
            "train masks are within 0-1\n",
            "\n",
            "patches per full image: 95\n",
            "\n",
            "train PATCHES images/masks shape:\n",
            "(1900, 1, 48, 48)\n",
            "train PATCHES images range (min-max): 0.00784313725490196 - 1.0\n"
          ],
          "name": "stdout"
        },
        {
          "output_type": "stream",
          "text": [
            "/usr/local/lib/python3.7/dist-packages/torch/utils/data/dataloader.py:477: UserWarning: This DataLoader will create 4 worker processes in total. Our suggested max number of worker in current system is 2, which is smaller than what this DataLoader is going to create. Please be aware that excessive worker creation might get DataLoader running slow or even freeze, lower the worker number to avoid potential slowness/freeze if necessary.\n",
            "  cpuset_checked))\n"
          ],
          "name": "stderr"
        }
      ]
    },
    {
      "cell_type": "markdown",
      "metadata": {
        "id": "RV3d9B6pN-jA"
      },
      "source": [
        "## Define functions for train and evaluate"
      ]
    },
    {
      "cell_type": "code",
      "metadata": {
        "id": "i4IQGzGqE8rZ"
      },
      "source": [
        "import torch.backends.cudnn as cudnn\n",
        "\n",
        "best_loss = np.Inf\n",
        "\n",
        "# create a list of learning rate with epochs\n",
        "lr_schedule = np.zeros(total_epoch)\n",
        "for l in range(len(lr_epoch)):\n",
        "    if l ==0:\n",
        "        lr_schedule[0:lr_epoch[l]] = lr_value[l]\n",
        "    else:\n",
        "        lr_schedule[lr_epoch[l-1]:lr_epoch[l]] = lr_value[l]\n",
        "\n",
        "if device == 'cuda':\n",
        "    net.cuda()\n",
        "    net = torch.nn.DataParallel(net, device_ids=range(torch.cuda.device_count()))\n",
        "    cudnn.benchmark = True\n",
        "if resume:\n",
        "    # Load checkpoint.\n",
        "    print('==> Resuming from checkpoint..')\n",
        "    assert os.path.isdir('checkpoint'), 'Error: no checkpoint directory found!'\n",
        "    checkpoint = torch.load('./checkpoint/'+check_path)\n",
        "    net.load_state_dict(checkpoint['net'])\n",
        "    start_epoch = checkpoint['epoch']\n",
        "\n",
        "def train(epoch):\n",
        "    print('\\nEpoch: %d' % epoch)\n",
        "    net.train()\n",
        "    train_loss = 0\n",
        "    IoU = []\n",
        "\n",
        "    # get learning rate from learing schedule\n",
        "    lr = lr_schedule[epoch]\n",
        "    for param_group in optimizer.param_groups:\n",
        "        param_group['lr'] = lr\n",
        "\n",
        "    print(\"Learning rate = %4f\\n\" % lr)\n",
        "\n",
        "    IU = []\n",
        "    # train network\n",
        "    for batch_idx, (inputs, targets) in enumerate(tqdm(train_loader)):\n",
        "        inputs, targets = inputs.to(device), targets.to(device)\n",
        "        optimizer.zero_grad()\n",
        "\n",
        "        outputs = net(inputs)\n",
        "        loss = criterion(outputs, targets)\n",
        "        loss.backward()\n",
        "        optimizer.step()\n",
        "\n",
        "        train_loss += loss.item()\n",
        "\n",
        "    print(\"Epoch %d: Train loss %4f\\n\" % (epoch, train_loss / np.float32(len(train_loader))))"
      ],
      "execution_count": 16,
      "outputs": []
    },
    {
      "cell_type": "code",
      "metadata": {
        "id": "YxpovUR1GEgN"
      },
      "source": [
        "def validate(epoch, display=False):\n",
        "    global best_loss\n",
        "    net.eval()\n",
        "    test_loss = 0\n",
        "    with torch.no_grad():\n",
        "\n",
        "        for batch_idx, (inputs, targets) in enumerate(val_loader):\n",
        "            inputs, targets = inputs.to(device), targets.to(device)\n",
        "            outputs = net(inputs)\n",
        "            loss = criterion(outputs, targets)\n",
        "\n",
        "            test_loss += loss.item()\n",
        "\n",
        "        print(\n",
        "            'Valid loss: {:.4f}'.format(test_loss))\n",
        "    # Save checkpoint.\n",
        "    if test_loss < best_loss:\n",
        "        print('Saving..')\n",
        "        state = {\n",
        "            'net': net.state_dict(),\n",
        "            'best_loss': best_loss,\n",
        "            'epoch': epoch,\n",
        "        }\n",
        "        if not os.path.isdir('checkpoint'):\n",
        "            os.mkdir('checkpoint')\n",
        "        torch.save(state, './checkpoint/' + check_path)\n",
        "        best_loss = test_loss"
      ],
      "execution_count": 17,
      "outputs": []
    },
    {
      "cell_type": "markdown",
      "metadata": {
        "id": "inIYnw3QOR9d"
      },
      "source": [
        "## Start training"
      ]
    },
    {
      "cell_type": "code",
      "metadata": {
        "colab": {
          "base_uri": "https://localhost:8080/"
        },
        "id": "EZ2DPNGsFums",
        "outputId": "ddcf3ff3-100c-4b88-d68a-9838706e8874"
      },
      "source": [
        "from tqdm import tqdm\n",
        "\n",
        "for epoch in range(start_epoch, total_epoch):\n",
        "    train(epoch)\n",
        "    validate(epoch, False)"
      ],
      "execution_count": 31,
      "outputs": [
        {
          "output_type": "stream",
          "text": [
            "\r  0%|          | 0/27 [00:00<?, ?it/s]"
          ],
          "name": "stderr"
        },
        {
          "output_type": "stream",
          "text": [
            "\n",
            "Epoch: 0\n",
            "Learning rate = 0.001000\n",
            "\n"
          ],
          "name": "stdout"
        },
        {
          "output_type": "stream",
          "text": [
            "/usr/local/lib/python3.7/dist-packages/torch/utils/data/dataloader.py:477: UserWarning: This DataLoader will create 4 worker processes in total. Our suggested max number of worker in current system is 2, which is smaller than what this DataLoader is going to create. Please be aware that excessive worker creation might get DataLoader running slow or even freeze, lower the worker number to avoid potential slowness/freeze if necessary.\n",
            "  cpuset_checked))\n",
            "100%|██████████| 27/27 [00:01<00:00, 16.73it/s]"
          ],
          "name": "stderr"
        },
        {
          "output_type": "stream",
          "text": [
            "Epoch 0: Train loss 0.380705\n",
            "\n"
          ],
          "name": "stdout"
        },
        {
          "output_type": "stream",
          "text": [
            "\n"
          ],
          "name": "stderr"
        },
        {
          "output_type": "stream",
          "text": [
            "Valid loss: 0.9349\n",
            "Saving..\n"
          ],
          "name": "stdout"
        },
        {
          "output_type": "stream",
          "text": [
            "\r  0%|          | 0/27 [00:00<?, ?it/s]"
          ],
          "name": "stderr"
        },
        {
          "output_type": "stream",
          "text": [
            "\n",
            "Epoch: 1\n",
            "Learning rate = 0.001000\n",
            "\n"
          ],
          "name": "stdout"
        },
        {
          "output_type": "stream",
          "text": [
            "100%|██████████| 27/27 [00:01<00:00, 20.51it/s]"
          ],
          "name": "stderr"
        },
        {
          "output_type": "stream",
          "text": [
            "Epoch 1: Train loss 0.293255\n",
            "\n"
          ],
          "name": "stdout"
        },
        {
          "output_type": "stream",
          "text": [
            "\n",
            "  0%|          | 0/27 [00:00<?, ?it/s]"
          ],
          "name": "stderr"
        },
        {
          "output_type": "stream",
          "text": [
            "Valid loss: 0.8540\n",
            "Saving..\n",
            "\n",
            "Epoch: 2\n",
            "Learning rate = 0.001000\n",
            "\n"
          ],
          "name": "stdout"
        },
        {
          "output_type": "stream",
          "text": [
            "100%|██████████| 27/27 [00:01<00:00, 20.52it/s]"
          ],
          "name": "stderr"
        },
        {
          "output_type": "stream",
          "text": [
            "Epoch 2: Train loss 0.277962\n",
            "\n"
          ],
          "name": "stdout"
        },
        {
          "output_type": "stream",
          "text": [
            "\n",
            "  0%|          | 0/27 [00:00<?, ?it/s]"
          ],
          "name": "stderr"
        },
        {
          "output_type": "stream",
          "text": [
            "Valid loss: 0.8378\n",
            "Saving..\n",
            "\n",
            "Epoch: 3\n",
            "Learning rate = 0.001000\n",
            "\n"
          ],
          "name": "stdout"
        },
        {
          "output_type": "stream",
          "text": [
            "100%|██████████| 27/27 [00:01<00:00, 20.63it/s]"
          ],
          "name": "stderr"
        },
        {
          "output_type": "stream",
          "text": [
            "Epoch 3: Train loss 0.274471\n",
            "\n"
          ],
          "name": "stdout"
        },
        {
          "output_type": "stream",
          "text": [
            "\n",
            "  0%|          | 0/27 [00:00<?, ?it/s]"
          ],
          "name": "stderr"
        },
        {
          "output_type": "stream",
          "text": [
            "Valid loss: 0.8217\n",
            "Saving..\n",
            "\n",
            "Epoch: 4\n",
            "Learning rate = 0.001000\n",
            "\n"
          ],
          "name": "stdout"
        },
        {
          "output_type": "stream",
          "text": [
            "100%|██████████| 27/27 [00:01<00:00, 20.19it/s]"
          ],
          "name": "stderr"
        },
        {
          "output_type": "stream",
          "text": [
            "Epoch 4: Train loss 0.263999\n",
            "\n"
          ],
          "name": "stdout"
        },
        {
          "output_type": "stream",
          "text": [
            "\n",
            "  0%|          | 0/27 [00:00<?, ?it/s]"
          ],
          "name": "stderr"
        },
        {
          "output_type": "stream",
          "text": [
            "Valid loss: 0.7795\n",
            "Saving..\n",
            "\n",
            "Epoch: 5\n",
            "Learning rate = 0.001000\n",
            "\n"
          ],
          "name": "stdout"
        },
        {
          "output_type": "stream",
          "text": [
            "100%|██████████| 27/27 [00:01<00:00, 20.53it/s]"
          ],
          "name": "stderr"
        },
        {
          "output_type": "stream",
          "text": [
            "Epoch 5: Train loss 0.239260\n",
            "\n"
          ],
          "name": "stdout"
        },
        {
          "output_type": "stream",
          "text": [
            "\n",
            "  0%|          | 0/27 [00:00<?, ?it/s]"
          ],
          "name": "stderr"
        },
        {
          "output_type": "stream",
          "text": [
            "Valid loss: 0.6446\n",
            "Saving..\n",
            "\n",
            "Epoch: 6\n",
            "Learning rate = 0.001000\n",
            "\n"
          ],
          "name": "stdout"
        },
        {
          "output_type": "stream",
          "text": [
            "100%|██████████| 27/27 [00:01<00:00, 20.74it/s]"
          ],
          "name": "stderr"
        },
        {
          "output_type": "stream",
          "text": [
            "Epoch 6: Train loss 0.195935\n",
            "\n"
          ],
          "name": "stdout"
        },
        {
          "output_type": "stream",
          "text": [
            "\n",
            "  0%|          | 0/27 [00:00<?, ?it/s]"
          ],
          "name": "stderr"
        },
        {
          "output_type": "stream",
          "text": [
            "Valid loss: 0.5690\n",
            "Saving..\n",
            "\n",
            "Epoch: 7\n",
            "Learning rate = 0.001000\n",
            "\n"
          ],
          "name": "stdout"
        },
        {
          "output_type": "stream",
          "text": [
            "100%|██████████| 27/27 [00:01<00:00, 20.28it/s]"
          ],
          "name": "stderr"
        },
        {
          "output_type": "stream",
          "text": [
            "Epoch 7: Train loss 0.168175\n",
            "\n"
          ],
          "name": "stdout"
        },
        {
          "output_type": "stream",
          "text": [
            "\n",
            "  0%|          | 0/27 [00:00<?, ?it/s]"
          ],
          "name": "stderr"
        },
        {
          "output_type": "stream",
          "text": [
            "Valid loss: 0.4650\n",
            "Saving..\n",
            "\n",
            "Epoch: 8\n",
            "Learning rate = 0.001000\n",
            "\n"
          ],
          "name": "stdout"
        },
        {
          "output_type": "stream",
          "text": [
            "100%|██████████| 27/27 [00:01<00:00, 20.46it/s]"
          ],
          "name": "stderr"
        },
        {
          "output_type": "stream",
          "text": [
            "Epoch 8: Train loss 0.148162\n",
            "\n"
          ],
          "name": "stdout"
        },
        {
          "output_type": "stream",
          "text": [
            "\n",
            "  0%|          | 0/27 [00:00<?, ?it/s]"
          ],
          "name": "stderr"
        },
        {
          "output_type": "stream",
          "text": [
            "Valid loss: 0.4281\n",
            "Saving..\n",
            "\n",
            "Epoch: 9\n",
            "Learning rate = 0.001000\n",
            "\n"
          ],
          "name": "stdout"
        },
        {
          "output_type": "stream",
          "text": [
            "100%|██████████| 27/27 [00:01<00:00, 20.52it/s]"
          ],
          "name": "stderr"
        },
        {
          "output_type": "stream",
          "text": [
            "Epoch 9: Train loss 0.144304\n",
            "\n"
          ],
          "name": "stdout"
        },
        {
          "output_type": "stream",
          "text": [
            "\n",
            "  0%|          | 0/27 [00:00<?, ?it/s]"
          ],
          "name": "stderr"
        },
        {
          "output_type": "stream",
          "text": [
            "Valid loss: 0.4134\n",
            "Saving..\n",
            "\n",
            "Epoch: 10\n",
            "Learning rate = 0.001000\n",
            "\n"
          ],
          "name": "stdout"
        },
        {
          "output_type": "stream",
          "text": [
            "100%|██████████| 27/27 [00:01<00:00, 20.75it/s]"
          ],
          "name": "stderr"
        },
        {
          "output_type": "stream",
          "text": [
            "Epoch 10: Train loss 0.136265\n",
            "\n"
          ],
          "name": "stdout"
        },
        {
          "output_type": "stream",
          "text": [
            "\n",
            "  0%|          | 0/27 [00:00<?, ?it/s]"
          ],
          "name": "stderr"
        },
        {
          "output_type": "stream",
          "text": [
            "Valid loss: 0.4012\n",
            "Saving..\n",
            "\n",
            "Epoch: 11\n",
            "Learning rate = 0.001000\n",
            "\n"
          ],
          "name": "stdout"
        },
        {
          "output_type": "stream",
          "text": [
            "100%|██████████| 27/27 [00:01<00:00, 20.79it/s]"
          ],
          "name": "stderr"
        },
        {
          "output_type": "stream",
          "text": [
            "Epoch 11: Train loss 0.131780\n",
            "\n"
          ],
          "name": "stdout"
        },
        {
          "output_type": "stream",
          "text": [
            "\n",
            "  0%|          | 0/27 [00:00<?, ?it/s]"
          ],
          "name": "stderr"
        },
        {
          "output_type": "stream",
          "text": [
            "Valid loss: 0.3901\n",
            "Saving..\n",
            "\n",
            "Epoch: 12\n",
            "Learning rate = 0.001000\n",
            "\n"
          ],
          "name": "stdout"
        },
        {
          "output_type": "stream",
          "text": [
            "100%|██████████| 27/27 [00:01<00:00, 20.38it/s]"
          ],
          "name": "stderr"
        },
        {
          "output_type": "stream",
          "text": [
            "Epoch 12: Train loss 0.128818\n",
            "\n"
          ],
          "name": "stdout"
        },
        {
          "output_type": "stream",
          "text": [
            "\n",
            "  0%|          | 0/27 [00:00<?, ?it/s]"
          ],
          "name": "stderr"
        },
        {
          "output_type": "stream",
          "text": [
            "Valid loss: 0.3850\n",
            "Saving..\n",
            "\n",
            "Epoch: 13\n",
            "Learning rate = 0.001000\n",
            "\n"
          ],
          "name": "stdout"
        },
        {
          "output_type": "stream",
          "text": [
            "100%|██████████| 27/27 [00:01<00:00, 20.34it/s]"
          ],
          "name": "stderr"
        },
        {
          "output_type": "stream",
          "text": [
            "Epoch 13: Train loss 0.126136\n",
            "\n"
          ],
          "name": "stdout"
        },
        {
          "output_type": "stream",
          "text": [
            "\n",
            "  0%|          | 0/27 [00:00<?, ?it/s]"
          ],
          "name": "stderr"
        },
        {
          "output_type": "stream",
          "text": [
            "Valid loss: 0.3763\n",
            "Saving..\n",
            "\n",
            "Epoch: 14\n",
            "Learning rate = 0.001000\n",
            "\n"
          ],
          "name": "stdout"
        },
        {
          "output_type": "stream",
          "text": [
            "100%|██████████| 27/27 [00:01<00:00, 20.73it/s]"
          ],
          "name": "stderr"
        },
        {
          "output_type": "stream",
          "text": [
            "Epoch 14: Train loss 0.121853\n",
            "\n"
          ],
          "name": "stdout"
        },
        {
          "output_type": "stream",
          "text": [
            "\n",
            "  0%|          | 0/27 [00:00<?, ?it/s]"
          ],
          "name": "stderr"
        },
        {
          "output_type": "stream",
          "text": [
            "Valid loss: 0.3737\n",
            "Saving..\n",
            "\n",
            "Epoch: 15\n",
            "Learning rate = 0.001000\n",
            "\n"
          ],
          "name": "stdout"
        },
        {
          "output_type": "stream",
          "text": [
            "100%|██████████| 27/27 [00:01<00:00, 20.46it/s]"
          ],
          "name": "stderr"
        },
        {
          "output_type": "stream",
          "text": [
            "Epoch 15: Train loss 0.122574\n",
            "\n"
          ],
          "name": "stdout"
        },
        {
          "output_type": "stream",
          "text": [
            "\n",
            "  0%|          | 0/27 [00:00<?, ?it/s]"
          ],
          "name": "stderr"
        },
        {
          "output_type": "stream",
          "text": [
            "Valid loss: 0.3926\n",
            "\n",
            "Epoch: 16\n",
            "Learning rate = 0.001000\n",
            "\n"
          ],
          "name": "stdout"
        },
        {
          "output_type": "stream",
          "text": [
            "100%|██████████| 27/27 [00:01<00:00, 20.45it/s]"
          ],
          "name": "stderr"
        },
        {
          "output_type": "stream",
          "text": [
            "Epoch 16: Train loss 0.120078\n",
            "\n"
          ],
          "name": "stdout"
        },
        {
          "output_type": "stream",
          "text": [
            "\n",
            "  0%|          | 0/27 [00:00<?, ?it/s]"
          ],
          "name": "stderr"
        },
        {
          "output_type": "stream",
          "text": [
            "Valid loss: 0.3682\n",
            "Saving..\n",
            "\n",
            "Epoch: 17\n",
            "Learning rate = 0.001000\n",
            "\n"
          ],
          "name": "stdout"
        },
        {
          "output_type": "stream",
          "text": [
            "100%|██████████| 27/27 [00:01<00:00, 20.78it/s]"
          ],
          "name": "stderr"
        },
        {
          "output_type": "stream",
          "text": [
            "Epoch 17: Train loss 0.115165\n",
            "\n"
          ],
          "name": "stdout"
        },
        {
          "output_type": "stream",
          "text": [
            "\n",
            "  0%|          | 0/27 [00:00<?, ?it/s]"
          ],
          "name": "stderr"
        },
        {
          "output_type": "stream",
          "text": [
            "Valid loss: 0.3610\n",
            "Saving..\n",
            "\n",
            "Epoch: 18\n",
            "Learning rate = 0.001000\n",
            "\n"
          ],
          "name": "stdout"
        },
        {
          "output_type": "stream",
          "text": [
            "100%|██████████| 27/27 [00:01<00:00, 20.55it/s]"
          ],
          "name": "stderr"
        },
        {
          "output_type": "stream",
          "text": [
            "Epoch 18: Train loss 0.112231\n",
            "\n"
          ],
          "name": "stdout"
        },
        {
          "output_type": "stream",
          "text": [
            "\n",
            "  0%|          | 0/27 [00:00<?, ?it/s]"
          ],
          "name": "stderr"
        },
        {
          "output_type": "stream",
          "text": [
            "Valid loss: 0.3612\n",
            "\n",
            "Epoch: 19\n",
            "Learning rate = 0.001000\n",
            "\n"
          ],
          "name": "stdout"
        },
        {
          "output_type": "stream",
          "text": [
            "100%|██████████| 27/27 [00:01<00:00, 20.30it/s]"
          ],
          "name": "stderr"
        },
        {
          "output_type": "stream",
          "text": [
            "Epoch 19: Train loss 0.110405\n",
            "\n"
          ],
          "name": "stdout"
        },
        {
          "output_type": "stream",
          "text": [
            "\n",
            "  0%|          | 0/27 [00:00<?, ?it/s]"
          ],
          "name": "stderr"
        },
        {
          "output_type": "stream",
          "text": [
            "Valid loss: 0.3730\n",
            "\n",
            "Epoch: 20\n",
            "Learning rate = 0.001000\n",
            "\n"
          ],
          "name": "stdout"
        },
        {
          "output_type": "stream",
          "text": [
            "100%|██████████| 27/27 [00:01<00:00, 20.61it/s]"
          ],
          "name": "stderr"
        },
        {
          "output_type": "stream",
          "text": [
            "Epoch 20: Train loss 0.109012\n",
            "\n"
          ],
          "name": "stdout"
        },
        {
          "output_type": "stream",
          "text": [
            "\n",
            "  0%|          | 0/27 [00:00<?, ?it/s]"
          ],
          "name": "stderr"
        },
        {
          "output_type": "stream",
          "text": [
            "Valid loss: 0.3569\n",
            "Saving..\n",
            "\n",
            "Epoch: 21\n",
            "Learning rate = 0.001000\n",
            "\n"
          ],
          "name": "stdout"
        },
        {
          "output_type": "stream",
          "text": [
            "100%|██████████| 27/27 [00:01<00:00, 20.57it/s]"
          ],
          "name": "stderr"
        },
        {
          "output_type": "stream",
          "text": [
            "Epoch 21: Train loss 0.105133\n",
            "\n"
          ],
          "name": "stdout"
        },
        {
          "output_type": "stream",
          "text": [
            "\n",
            "  0%|          | 0/27 [00:00<?, ?it/s]"
          ],
          "name": "stderr"
        },
        {
          "output_type": "stream",
          "text": [
            "Valid loss: 0.3601\n",
            "\n",
            "Epoch: 22\n",
            "Learning rate = 0.001000\n",
            "\n"
          ],
          "name": "stdout"
        },
        {
          "output_type": "stream",
          "text": [
            "100%|██████████| 27/27 [00:01<00:00, 20.56it/s]"
          ],
          "name": "stderr"
        },
        {
          "output_type": "stream",
          "text": [
            "Epoch 22: Train loss 0.101648\n",
            "\n"
          ],
          "name": "stdout"
        },
        {
          "output_type": "stream",
          "text": [
            "\n",
            "  0%|          | 0/27 [00:00<?, ?it/s]"
          ],
          "name": "stderr"
        },
        {
          "output_type": "stream",
          "text": [
            "Valid loss: 0.3600\n",
            "\n",
            "Epoch: 23\n",
            "Learning rate = 0.001000\n",
            "\n"
          ],
          "name": "stdout"
        },
        {
          "output_type": "stream",
          "text": [
            "100%|██████████| 27/27 [00:01<00:00, 20.12it/s]"
          ],
          "name": "stderr"
        },
        {
          "output_type": "stream",
          "text": [
            "Epoch 23: Train loss 0.099984\n",
            "\n"
          ],
          "name": "stdout"
        },
        {
          "output_type": "stream",
          "text": [
            "\n",
            "  0%|          | 0/27 [00:00<?, ?it/s]"
          ],
          "name": "stderr"
        },
        {
          "output_type": "stream",
          "text": [
            "Valid loss: 0.3663\n",
            "\n",
            "Epoch: 24\n",
            "Learning rate = 0.001000\n",
            "\n"
          ],
          "name": "stdout"
        },
        {
          "output_type": "stream",
          "text": [
            "100%|██████████| 27/27 [00:01<00:00, 19.93it/s]"
          ],
          "name": "stderr"
        },
        {
          "output_type": "stream",
          "text": [
            "Epoch 24: Train loss 0.096943\n",
            "\n"
          ],
          "name": "stdout"
        },
        {
          "output_type": "stream",
          "text": [
            "\n",
            "  0%|          | 0/27 [00:00<?, ?it/s]"
          ],
          "name": "stderr"
        },
        {
          "output_type": "stream",
          "text": [
            "Valid loss: 0.3596\n",
            "\n",
            "Epoch: 25\n",
            "Learning rate = 0.001000\n",
            "\n"
          ],
          "name": "stdout"
        },
        {
          "output_type": "stream",
          "text": [
            "100%|██████████| 27/27 [00:01<00:00, 20.48it/s]"
          ],
          "name": "stderr"
        },
        {
          "output_type": "stream",
          "text": [
            "Epoch 25: Train loss 0.094216\n",
            "\n"
          ],
          "name": "stdout"
        },
        {
          "output_type": "stream",
          "text": [
            "\n",
            "  0%|          | 0/27 [00:00<?, ?it/s]"
          ],
          "name": "stderr"
        },
        {
          "output_type": "stream",
          "text": [
            "Valid loss: 0.3646\n",
            "\n",
            "Epoch: 26\n",
            "Learning rate = 0.001000\n",
            "\n"
          ],
          "name": "stdout"
        },
        {
          "output_type": "stream",
          "text": [
            "100%|██████████| 27/27 [00:01<00:00, 20.37it/s]"
          ],
          "name": "stderr"
        },
        {
          "output_type": "stream",
          "text": [
            "Epoch 26: Train loss 0.091767\n",
            "\n"
          ],
          "name": "stdout"
        },
        {
          "output_type": "stream",
          "text": [
            "\n",
            "  0%|          | 0/27 [00:00<?, ?it/s]"
          ],
          "name": "stderr"
        },
        {
          "output_type": "stream",
          "text": [
            "Valid loss: 0.3565\n",
            "Saving..\n",
            "\n",
            "Epoch: 27\n",
            "Learning rate = 0.001000\n",
            "\n"
          ],
          "name": "stdout"
        },
        {
          "output_type": "stream",
          "text": [
            "100%|██████████| 27/27 [00:01<00:00, 20.47it/s]"
          ],
          "name": "stderr"
        },
        {
          "output_type": "stream",
          "text": [
            "Epoch 27: Train loss 0.089409\n",
            "\n"
          ],
          "name": "stdout"
        },
        {
          "output_type": "stream",
          "text": [
            "\n",
            "  0%|          | 0/27 [00:00<?, ?it/s]"
          ],
          "name": "stderr"
        },
        {
          "output_type": "stream",
          "text": [
            "Valid loss: 0.3641\n",
            "\n",
            "Epoch: 28\n",
            "Learning rate = 0.001000\n",
            "\n"
          ],
          "name": "stdout"
        },
        {
          "output_type": "stream",
          "text": [
            "100%|██████████| 27/27 [00:01<00:00, 20.25it/s]"
          ],
          "name": "stderr"
        },
        {
          "output_type": "stream",
          "text": [
            "Epoch 28: Train loss 0.086880\n",
            "\n"
          ],
          "name": "stdout"
        },
        {
          "output_type": "stream",
          "text": [
            "\n",
            "  0%|          | 0/27 [00:00<?, ?it/s]"
          ],
          "name": "stderr"
        },
        {
          "output_type": "stream",
          "text": [
            "Valid loss: 0.3698\n",
            "\n",
            "Epoch: 29\n",
            "Learning rate = 0.001000\n",
            "\n"
          ],
          "name": "stdout"
        },
        {
          "output_type": "stream",
          "text": [
            "100%|██████████| 27/27 [00:01<00:00, 20.57it/s]"
          ],
          "name": "stderr"
        },
        {
          "output_type": "stream",
          "text": [
            "Epoch 29: Train loss 0.086061\n",
            "\n"
          ],
          "name": "stdout"
        },
        {
          "output_type": "stream",
          "text": [
            "\n",
            "  0%|          | 0/27 [00:00<?, ?it/s]"
          ],
          "name": "stderr"
        },
        {
          "output_type": "stream",
          "text": [
            "Valid loss: 0.3731\n",
            "\n",
            "Epoch: 30\n",
            "Learning rate = 0.001000\n",
            "\n"
          ],
          "name": "stdout"
        },
        {
          "output_type": "stream",
          "text": [
            "100%|██████████| 27/27 [00:01<00:00, 19.80it/s]"
          ],
          "name": "stderr"
        },
        {
          "output_type": "stream",
          "text": [
            "Epoch 30: Train loss 0.084477\n",
            "\n"
          ],
          "name": "stdout"
        },
        {
          "output_type": "stream",
          "text": [
            "\n",
            "  0%|          | 0/27 [00:00<?, ?it/s]"
          ],
          "name": "stderr"
        },
        {
          "output_type": "stream",
          "text": [
            "Valid loss: 0.3838\n",
            "\n",
            "Epoch: 31\n",
            "Learning rate = 0.001000\n",
            "\n"
          ],
          "name": "stdout"
        },
        {
          "output_type": "stream",
          "text": [
            "100%|██████████| 27/27 [00:01<00:00, 20.43it/s]"
          ],
          "name": "stderr"
        },
        {
          "output_type": "stream",
          "text": [
            "Epoch 31: Train loss 0.081578\n",
            "\n"
          ],
          "name": "stdout"
        },
        {
          "output_type": "stream",
          "text": [
            "\n",
            "  0%|          | 0/27 [00:00<?, ?it/s]"
          ],
          "name": "stderr"
        },
        {
          "output_type": "stream",
          "text": [
            "Valid loss: 0.3787\n",
            "\n",
            "Epoch: 32\n",
            "Learning rate = 0.001000\n",
            "\n"
          ],
          "name": "stdout"
        },
        {
          "output_type": "stream",
          "text": [
            "100%|██████████| 27/27 [00:01<00:00, 20.29it/s]"
          ],
          "name": "stderr"
        },
        {
          "output_type": "stream",
          "text": [
            "Epoch 32: Train loss 0.079373\n",
            "\n"
          ],
          "name": "stdout"
        },
        {
          "output_type": "stream",
          "text": [
            "\n",
            "  0%|          | 0/27 [00:00<?, ?it/s]"
          ],
          "name": "stderr"
        },
        {
          "output_type": "stream",
          "text": [
            "Valid loss: 0.3796\n",
            "\n",
            "Epoch: 33\n",
            "Learning rate = 0.001000\n",
            "\n"
          ],
          "name": "stdout"
        },
        {
          "output_type": "stream",
          "text": [
            "100%|██████████| 27/27 [00:01<00:00, 20.81it/s]"
          ],
          "name": "stderr"
        },
        {
          "output_type": "stream",
          "text": [
            "Epoch 33: Train loss 0.078822\n",
            "\n"
          ],
          "name": "stdout"
        },
        {
          "output_type": "stream",
          "text": [
            "\n",
            "  0%|          | 0/27 [00:00<?, ?it/s]"
          ],
          "name": "stderr"
        },
        {
          "output_type": "stream",
          "text": [
            "Valid loss: 0.3857\n",
            "\n",
            "Epoch: 34\n",
            "Learning rate = 0.001000\n",
            "\n"
          ],
          "name": "stdout"
        },
        {
          "output_type": "stream",
          "text": [
            "100%|██████████| 27/27 [00:01<00:00, 20.65it/s]"
          ],
          "name": "stderr"
        },
        {
          "output_type": "stream",
          "text": [
            "Epoch 34: Train loss 0.075980\n",
            "\n"
          ],
          "name": "stdout"
        },
        {
          "output_type": "stream",
          "text": [
            "\n",
            "  0%|          | 0/27 [00:00<?, ?it/s]"
          ],
          "name": "stderr"
        },
        {
          "output_type": "stream",
          "text": [
            "Valid loss: 0.4260\n",
            "\n",
            "Epoch: 35\n",
            "Learning rate = 0.001000\n",
            "\n"
          ],
          "name": "stdout"
        },
        {
          "output_type": "stream",
          "text": [
            "100%|██████████| 27/27 [00:01<00:00, 20.30it/s]"
          ],
          "name": "stderr"
        },
        {
          "output_type": "stream",
          "text": [
            "Epoch 35: Train loss 0.074195\n",
            "\n"
          ],
          "name": "stdout"
        },
        {
          "output_type": "stream",
          "text": [
            "\n",
            "  0%|          | 0/27 [00:00<?, ?it/s]"
          ],
          "name": "stderr"
        },
        {
          "output_type": "stream",
          "text": [
            "Valid loss: 0.3938\n",
            "\n",
            "Epoch: 36\n",
            "Learning rate = 0.001000\n",
            "\n"
          ],
          "name": "stdout"
        },
        {
          "output_type": "stream",
          "text": [
            "100%|██████████| 27/27 [00:01<00:00, 20.28it/s]"
          ],
          "name": "stderr"
        },
        {
          "output_type": "stream",
          "text": [
            "Epoch 36: Train loss 0.073287\n",
            "\n"
          ],
          "name": "stdout"
        },
        {
          "output_type": "stream",
          "text": [
            "\n",
            "  0%|          | 0/27 [00:00<?, ?it/s]"
          ],
          "name": "stderr"
        },
        {
          "output_type": "stream",
          "text": [
            "Valid loss: 0.3977\n",
            "\n",
            "Epoch: 37\n",
            "Learning rate = 0.001000\n",
            "\n"
          ],
          "name": "stdout"
        },
        {
          "output_type": "stream",
          "text": [
            "100%|██████████| 27/27 [00:01<00:00, 20.37it/s]"
          ],
          "name": "stderr"
        },
        {
          "output_type": "stream",
          "text": [
            "Epoch 37: Train loss 0.071398\n",
            "\n"
          ],
          "name": "stdout"
        },
        {
          "output_type": "stream",
          "text": [
            "\n",
            "  0%|          | 0/27 [00:00<?, ?it/s]"
          ],
          "name": "stderr"
        },
        {
          "output_type": "stream",
          "text": [
            "Valid loss: 0.4107\n",
            "\n",
            "Epoch: 38\n",
            "Learning rate = 0.001000\n",
            "\n"
          ],
          "name": "stdout"
        },
        {
          "output_type": "stream",
          "text": [
            "100%|██████████| 27/27 [00:01<00:00, 20.29it/s]"
          ],
          "name": "stderr"
        },
        {
          "output_type": "stream",
          "text": [
            "Epoch 38: Train loss 0.070400\n",
            "\n"
          ],
          "name": "stdout"
        },
        {
          "output_type": "stream",
          "text": [
            "\n",
            "  0%|          | 0/27 [00:00<?, ?it/s]"
          ],
          "name": "stderr"
        },
        {
          "output_type": "stream",
          "text": [
            "Valid loss: 0.4111\n",
            "\n",
            "Epoch: 39\n",
            "Learning rate = 0.001000\n",
            "\n"
          ],
          "name": "stdout"
        },
        {
          "output_type": "stream",
          "text": [
            "100%|██████████| 27/27 [00:01<00:00, 20.37it/s]"
          ],
          "name": "stderr"
        },
        {
          "output_type": "stream",
          "text": [
            "Epoch 39: Train loss 0.068406\n",
            "\n"
          ],
          "name": "stdout"
        },
        {
          "output_type": "stream",
          "text": [
            "\n",
            "  0%|          | 0/27 [00:00<?, ?it/s]"
          ],
          "name": "stderr"
        },
        {
          "output_type": "stream",
          "text": [
            "Valid loss: 0.4117\n",
            "\n",
            "Epoch: 40\n",
            "Learning rate = 0.001000\n",
            "\n"
          ],
          "name": "stdout"
        },
        {
          "output_type": "stream",
          "text": [
            "100%|██████████| 27/27 [00:01<00:00, 20.23it/s]"
          ],
          "name": "stderr"
        },
        {
          "output_type": "stream",
          "text": [
            "Epoch 40: Train loss 0.066725\n",
            "\n"
          ],
          "name": "stdout"
        },
        {
          "output_type": "stream",
          "text": [
            "\n",
            "  0%|          | 0/27 [00:00<?, ?it/s]"
          ],
          "name": "stderr"
        },
        {
          "output_type": "stream",
          "text": [
            "Valid loss: 0.4196\n",
            "\n",
            "Epoch: 41\n",
            "Learning rate = 0.001000\n",
            "\n"
          ],
          "name": "stdout"
        },
        {
          "output_type": "stream",
          "text": [
            "100%|██████████| 27/27 [00:01<00:00, 20.37it/s]"
          ],
          "name": "stderr"
        },
        {
          "output_type": "stream",
          "text": [
            "Epoch 41: Train loss 0.065321\n",
            "\n"
          ],
          "name": "stdout"
        },
        {
          "output_type": "stream",
          "text": [
            "\n",
            "  0%|          | 0/27 [00:00<?, ?it/s]"
          ],
          "name": "stderr"
        },
        {
          "output_type": "stream",
          "text": [
            "Valid loss: 0.4218\n",
            "\n",
            "Epoch: 42\n",
            "Learning rate = 0.001000\n",
            "\n"
          ],
          "name": "stdout"
        },
        {
          "output_type": "stream",
          "text": [
            "100%|██████████| 27/27 [00:01<00:00, 18.84it/s]"
          ],
          "name": "stderr"
        },
        {
          "output_type": "stream",
          "text": [
            "Epoch 42: Train loss 0.064337\n",
            "\n"
          ],
          "name": "stdout"
        },
        {
          "output_type": "stream",
          "text": [
            "\n",
            "  0%|          | 0/27 [00:00<?, ?it/s]"
          ],
          "name": "stderr"
        },
        {
          "output_type": "stream",
          "text": [
            "Valid loss: 0.4450\n",
            "\n",
            "Epoch: 43\n",
            "Learning rate = 0.001000\n",
            "\n"
          ],
          "name": "stdout"
        },
        {
          "output_type": "stream",
          "text": [
            "100%|██████████| 27/27 [00:01<00:00, 20.08it/s]"
          ],
          "name": "stderr"
        },
        {
          "output_type": "stream",
          "text": [
            "Epoch 43: Train loss 0.063346\n",
            "\n"
          ],
          "name": "stdout"
        },
        {
          "output_type": "stream",
          "text": [
            "\n",
            "  0%|          | 0/27 [00:00<?, ?it/s]"
          ],
          "name": "stderr"
        },
        {
          "output_type": "stream",
          "text": [
            "Valid loss: 0.4342\n",
            "\n",
            "Epoch: 44\n",
            "Learning rate = 0.001000\n",
            "\n"
          ],
          "name": "stdout"
        },
        {
          "output_type": "stream",
          "text": [
            "100%|██████████| 27/27 [00:01<00:00, 16.52it/s]"
          ],
          "name": "stderr"
        },
        {
          "output_type": "stream",
          "text": [
            "Epoch 44: Train loss 0.062306\n",
            "\n"
          ],
          "name": "stdout"
        },
        {
          "output_type": "stream",
          "text": [
            "\n",
            "  0%|          | 0/27 [00:00<?, ?it/s]"
          ],
          "name": "stderr"
        },
        {
          "output_type": "stream",
          "text": [
            "Valid loss: 0.4458\n",
            "\n",
            "Epoch: 45\n",
            "Learning rate = 0.001000\n",
            "\n"
          ],
          "name": "stdout"
        },
        {
          "output_type": "stream",
          "text": [
            "100%|██████████| 27/27 [00:01<00:00, 20.34it/s]"
          ],
          "name": "stderr"
        },
        {
          "output_type": "stream",
          "text": [
            "Epoch 45: Train loss 0.061015\n",
            "\n"
          ],
          "name": "stdout"
        },
        {
          "output_type": "stream",
          "text": [
            "\n",
            "  0%|          | 0/27 [00:00<?, ?it/s]"
          ],
          "name": "stderr"
        },
        {
          "output_type": "stream",
          "text": [
            "Valid loss: 0.4603\n",
            "\n",
            "Epoch: 46\n",
            "Learning rate = 0.001000\n",
            "\n"
          ],
          "name": "stdout"
        },
        {
          "output_type": "stream",
          "text": [
            "100%|██████████| 27/27 [00:01<00:00, 20.02it/s]"
          ],
          "name": "stderr"
        },
        {
          "output_type": "stream",
          "text": [
            "Epoch 46: Train loss 0.059803\n",
            "\n"
          ],
          "name": "stdout"
        },
        {
          "output_type": "stream",
          "text": [
            "\n",
            "  0%|          | 0/27 [00:00<?, ?it/s]"
          ],
          "name": "stderr"
        },
        {
          "output_type": "stream",
          "text": [
            "Valid loss: 0.4507\n",
            "\n",
            "Epoch: 47\n",
            "Learning rate = 0.001000\n",
            "\n"
          ],
          "name": "stdout"
        },
        {
          "output_type": "stream",
          "text": [
            "100%|██████████| 27/27 [00:01<00:00, 20.26it/s]"
          ],
          "name": "stderr"
        },
        {
          "output_type": "stream",
          "text": [
            "Epoch 47: Train loss 0.059767\n",
            "\n"
          ],
          "name": "stdout"
        },
        {
          "output_type": "stream",
          "text": [
            "\n",
            "  0%|          | 0/27 [00:00<?, ?it/s]"
          ],
          "name": "stderr"
        },
        {
          "output_type": "stream",
          "text": [
            "Valid loss: 0.4762\n",
            "\n",
            "Epoch: 48\n",
            "Learning rate = 0.001000\n",
            "\n"
          ],
          "name": "stdout"
        },
        {
          "output_type": "stream",
          "text": [
            "100%|██████████| 27/27 [00:01<00:00, 20.37it/s]"
          ],
          "name": "stderr"
        },
        {
          "output_type": "stream",
          "text": [
            "Epoch 48: Train loss 0.058710\n",
            "\n"
          ],
          "name": "stdout"
        },
        {
          "output_type": "stream",
          "text": [
            "\n",
            "  0%|          | 0/27 [00:00<?, ?it/s]"
          ],
          "name": "stderr"
        },
        {
          "output_type": "stream",
          "text": [
            "Valid loss: 0.4670\n",
            "\n",
            "Epoch: 49\n",
            "Learning rate = 0.001000\n",
            "\n"
          ],
          "name": "stdout"
        },
        {
          "output_type": "stream",
          "text": [
            "100%|██████████| 27/27 [00:01<00:00, 19.91it/s]"
          ],
          "name": "stderr"
        },
        {
          "output_type": "stream",
          "text": [
            "Epoch 49: Train loss 0.058056\n",
            "\n"
          ],
          "name": "stdout"
        },
        {
          "output_type": "stream",
          "text": [
            "\n",
            "  0%|          | 0/27 [00:00<?, ?it/s]"
          ],
          "name": "stderr"
        },
        {
          "output_type": "stream",
          "text": [
            "Valid loss: 0.4718\n",
            "\n",
            "Epoch: 50\n",
            "Learning rate = 0.001000\n",
            "\n"
          ],
          "name": "stdout"
        },
        {
          "output_type": "stream",
          "text": [
            "100%|██████████| 27/27 [00:01<00:00, 20.58it/s]"
          ],
          "name": "stderr"
        },
        {
          "output_type": "stream",
          "text": [
            "Epoch 50: Train loss 0.057178\n",
            "\n"
          ],
          "name": "stdout"
        },
        {
          "output_type": "stream",
          "text": [
            "\n",
            "  0%|          | 0/27 [00:00<?, ?it/s]"
          ],
          "name": "stderr"
        },
        {
          "output_type": "stream",
          "text": [
            "Valid loss: 0.4883\n",
            "\n",
            "Epoch: 51\n",
            "Learning rate = 0.001000\n",
            "\n"
          ],
          "name": "stdout"
        },
        {
          "output_type": "stream",
          "text": [
            "100%|██████████| 27/27 [00:01<00:00, 20.15it/s]"
          ],
          "name": "stderr"
        },
        {
          "output_type": "stream",
          "text": [
            "Epoch 51: Train loss 0.055910\n",
            "\n"
          ],
          "name": "stdout"
        },
        {
          "output_type": "stream",
          "text": [
            "\n",
            "  0%|          | 0/27 [00:00<?, ?it/s]"
          ],
          "name": "stderr"
        },
        {
          "output_type": "stream",
          "text": [
            "Valid loss: 0.4766\n",
            "\n",
            "Epoch: 52\n",
            "Learning rate = 0.001000\n",
            "\n"
          ],
          "name": "stdout"
        },
        {
          "output_type": "stream",
          "text": [
            "100%|██████████| 27/27 [00:01<00:00, 20.07it/s]"
          ],
          "name": "stderr"
        },
        {
          "output_type": "stream",
          "text": [
            "Epoch 52: Train loss 0.054696\n",
            "\n"
          ],
          "name": "stdout"
        },
        {
          "output_type": "stream",
          "text": [
            "\n",
            "  0%|          | 0/27 [00:00<?, ?it/s]"
          ],
          "name": "stderr"
        },
        {
          "output_type": "stream",
          "text": [
            "Valid loss: 0.4686\n",
            "\n",
            "Epoch: 53\n",
            "Learning rate = 0.001000\n",
            "\n"
          ],
          "name": "stdout"
        },
        {
          "output_type": "stream",
          "text": [
            "100%|██████████| 27/27 [00:01<00:00, 20.45it/s]"
          ],
          "name": "stderr"
        },
        {
          "output_type": "stream",
          "text": [
            "Epoch 53: Train loss 0.054056\n",
            "\n"
          ],
          "name": "stdout"
        },
        {
          "output_type": "stream",
          "text": [
            "\n",
            "  0%|          | 0/27 [00:00<?, ?it/s]"
          ],
          "name": "stderr"
        },
        {
          "output_type": "stream",
          "text": [
            "Valid loss: 0.5163\n",
            "\n",
            "Epoch: 54\n",
            "Learning rate = 0.001000\n",
            "\n"
          ],
          "name": "stdout"
        },
        {
          "output_type": "stream",
          "text": [
            "100%|██████████| 27/27 [00:01<00:00, 20.62it/s]"
          ],
          "name": "stderr"
        },
        {
          "output_type": "stream",
          "text": [
            "Epoch 54: Train loss 0.052794\n",
            "\n"
          ],
          "name": "stdout"
        },
        {
          "output_type": "stream",
          "text": [
            "\n",
            "  0%|          | 0/27 [00:00<?, ?it/s]"
          ],
          "name": "stderr"
        },
        {
          "output_type": "stream",
          "text": [
            "Valid loss: 0.5043\n",
            "\n",
            "Epoch: 55\n",
            "Learning rate = 0.001000\n",
            "\n"
          ],
          "name": "stdout"
        },
        {
          "output_type": "stream",
          "text": [
            "100%|██████████| 27/27 [00:01<00:00, 20.19it/s]"
          ],
          "name": "stderr"
        },
        {
          "output_type": "stream",
          "text": [
            "Epoch 55: Train loss 0.052202\n",
            "\n"
          ],
          "name": "stdout"
        },
        {
          "output_type": "stream",
          "text": [
            "\n",
            "  0%|          | 0/27 [00:00<?, ?it/s]"
          ],
          "name": "stderr"
        },
        {
          "output_type": "stream",
          "text": [
            "Valid loss: 0.5191\n",
            "\n",
            "Epoch: 56\n",
            "Learning rate = 0.001000\n",
            "\n"
          ],
          "name": "stdout"
        },
        {
          "output_type": "stream",
          "text": [
            "100%|██████████| 27/27 [00:01<00:00, 19.83it/s]"
          ],
          "name": "stderr"
        },
        {
          "output_type": "stream",
          "text": [
            "Epoch 56: Train loss 0.051484\n",
            "\n"
          ],
          "name": "stdout"
        },
        {
          "output_type": "stream",
          "text": [
            "\n",
            "  0%|          | 0/27 [00:00<?, ?it/s]"
          ],
          "name": "stderr"
        },
        {
          "output_type": "stream",
          "text": [
            "Valid loss: 0.4921\n",
            "\n",
            "Epoch: 57\n",
            "Learning rate = 0.001000\n",
            "\n"
          ],
          "name": "stdout"
        },
        {
          "output_type": "stream",
          "text": [
            "100%|██████████| 27/27 [00:01<00:00, 20.25it/s]"
          ],
          "name": "stderr"
        },
        {
          "output_type": "stream",
          "text": [
            "Epoch 57: Train loss 0.051251\n",
            "\n"
          ],
          "name": "stdout"
        },
        {
          "output_type": "stream",
          "text": [
            "\n",
            "  0%|          | 0/27 [00:00<?, ?it/s]"
          ],
          "name": "stderr"
        },
        {
          "output_type": "stream",
          "text": [
            "Valid loss: 0.5197\n",
            "\n",
            "Epoch: 58\n",
            "Learning rate = 0.001000\n",
            "\n"
          ],
          "name": "stdout"
        },
        {
          "output_type": "stream",
          "text": [
            "100%|██████████| 27/27 [00:01<00:00, 20.30it/s]"
          ],
          "name": "stderr"
        },
        {
          "output_type": "stream",
          "text": [
            "Epoch 58: Train loss 0.050140\n",
            "\n"
          ],
          "name": "stdout"
        },
        {
          "output_type": "stream",
          "text": [
            "\n",
            "  0%|          | 0/27 [00:00<?, ?it/s]"
          ],
          "name": "stderr"
        },
        {
          "output_type": "stream",
          "text": [
            "Valid loss: 0.4978\n",
            "\n",
            "Epoch: 59\n",
            "Learning rate = 0.001000\n",
            "\n"
          ],
          "name": "stdout"
        },
        {
          "output_type": "stream",
          "text": [
            "100%|██████████| 27/27 [00:01<00:00, 20.35it/s]"
          ],
          "name": "stderr"
        },
        {
          "output_type": "stream",
          "text": [
            "Epoch 59: Train loss 0.049391\n",
            "\n"
          ],
          "name": "stdout"
        },
        {
          "output_type": "stream",
          "text": [
            "\n",
            "  0%|          | 0/27 [00:00<?, ?it/s]"
          ],
          "name": "stderr"
        },
        {
          "output_type": "stream",
          "text": [
            "Valid loss: 0.5324\n",
            "\n",
            "Epoch: 60\n",
            "Learning rate = 0.001000\n",
            "\n"
          ],
          "name": "stdout"
        },
        {
          "output_type": "stream",
          "text": [
            "100%|██████████| 27/27 [00:01<00:00, 20.18it/s]"
          ],
          "name": "stderr"
        },
        {
          "output_type": "stream",
          "text": [
            "Epoch 60: Train loss 0.048266\n",
            "\n"
          ],
          "name": "stdout"
        },
        {
          "output_type": "stream",
          "text": [
            "\n",
            "  0%|          | 0/27 [00:00<?, ?it/s]"
          ],
          "name": "stderr"
        },
        {
          "output_type": "stream",
          "text": [
            "Valid loss: 0.5181\n",
            "\n",
            "Epoch: 61\n",
            "Learning rate = 0.001000\n",
            "\n"
          ],
          "name": "stdout"
        },
        {
          "output_type": "stream",
          "text": [
            "100%|██████████| 27/27 [00:01<00:00, 20.10it/s]"
          ],
          "name": "stderr"
        },
        {
          "output_type": "stream",
          "text": [
            "Epoch 61: Train loss 0.047589\n",
            "\n"
          ],
          "name": "stdout"
        },
        {
          "output_type": "stream",
          "text": [
            "\n",
            "  0%|          | 0/27 [00:00<?, ?it/s]"
          ],
          "name": "stderr"
        },
        {
          "output_type": "stream",
          "text": [
            "Valid loss: 0.5721\n",
            "\n",
            "Epoch: 62\n",
            "Learning rate = 0.001000\n",
            "\n"
          ],
          "name": "stdout"
        },
        {
          "output_type": "stream",
          "text": [
            "100%|██████████| 27/27 [00:01<00:00, 19.95it/s]"
          ],
          "name": "stderr"
        },
        {
          "output_type": "stream",
          "text": [
            "Epoch 62: Train loss 0.047435\n",
            "\n"
          ],
          "name": "stdout"
        },
        {
          "output_type": "stream",
          "text": [
            "\n",
            "  0%|          | 0/27 [00:00<?, ?it/s]"
          ],
          "name": "stderr"
        },
        {
          "output_type": "stream",
          "text": [
            "Valid loss: 0.5318\n",
            "\n",
            "Epoch: 63\n",
            "Learning rate = 0.001000\n",
            "\n"
          ],
          "name": "stdout"
        },
        {
          "output_type": "stream",
          "text": [
            "100%|██████████| 27/27 [00:01<00:00, 20.10it/s]"
          ],
          "name": "stderr"
        },
        {
          "output_type": "stream",
          "text": [
            "Epoch 63: Train loss 0.047067\n",
            "\n"
          ],
          "name": "stdout"
        },
        {
          "output_type": "stream",
          "text": [
            "\n",
            "  0%|          | 0/27 [00:00<?, ?it/s]"
          ],
          "name": "stderr"
        },
        {
          "output_type": "stream",
          "text": [
            "Valid loss: 0.5593\n",
            "\n",
            "Epoch: 64\n",
            "Learning rate = 0.001000\n",
            "\n"
          ],
          "name": "stdout"
        },
        {
          "output_type": "stream",
          "text": [
            "100%|██████████| 27/27 [00:01<00:00, 20.26it/s]"
          ],
          "name": "stderr"
        },
        {
          "output_type": "stream",
          "text": [
            "Epoch 64: Train loss 0.046118\n",
            "\n"
          ],
          "name": "stdout"
        },
        {
          "output_type": "stream",
          "text": [
            "\n",
            "  0%|          | 0/27 [00:00<?, ?it/s]"
          ],
          "name": "stderr"
        },
        {
          "output_type": "stream",
          "text": [
            "Valid loss: 0.5771\n",
            "\n",
            "Epoch: 65\n",
            "Learning rate = 0.001000\n",
            "\n"
          ],
          "name": "stdout"
        },
        {
          "output_type": "stream",
          "text": [
            "100%|██████████| 27/27 [00:01<00:00, 20.27it/s]"
          ],
          "name": "stderr"
        },
        {
          "output_type": "stream",
          "text": [
            "Epoch 65: Train loss 0.045643\n",
            "\n"
          ],
          "name": "stdout"
        },
        {
          "output_type": "stream",
          "text": [
            "\n",
            "  0%|          | 0/27 [00:00<?, ?it/s]"
          ],
          "name": "stderr"
        },
        {
          "output_type": "stream",
          "text": [
            "Valid loss: 0.5552\n",
            "\n",
            "Epoch: 66\n",
            "Learning rate = 0.001000\n",
            "\n"
          ],
          "name": "stdout"
        },
        {
          "output_type": "stream",
          "text": [
            "100%|██████████| 27/27 [00:01<00:00, 20.24it/s]"
          ],
          "name": "stderr"
        },
        {
          "output_type": "stream",
          "text": [
            "Epoch 66: Train loss 0.045596\n",
            "\n"
          ],
          "name": "stdout"
        },
        {
          "output_type": "stream",
          "text": [
            "\n",
            "  0%|          | 0/27 [00:00<?, ?it/s]"
          ],
          "name": "stderr"
        },
        {
          "output_type": "stream",
          "text": [
            "Valid loss: 0.5797\n",
            "\n",
            "Epoch: 67\n",
            "Learning rate = 0.001000\n",
            "\n"
          ],
          "name": "stdout"
        },
        {
          "output_type": "stream",
          "text": [
            "100%|██████████| 27/27 [00:01<00:00, 20.50it/s]"
          ],
          "name": "stderr"
        },
        {
          "output_type": "stream",
          "text": [
            "Epoch 67: Train loss 0.045021\n",
            "\n"
          ],
          "name": "stdout"
        },
        {
          "output_type": "stream",
          "text": [
            "\n",
            "  0%|          | 0/27 [00:00<?, ?it/s]"
          ],
          "name": "stderr"
        },
        {
          "output_type": "stream",
          "text": [
            "Valid loss: 0.5706\n",
            "\n",
            "Epoch: 68\n",
            "Learning rate = 0.001000\n",
            "\n"
          ],
          "name": "stdout"
        },
        {
          "output_type": "stream",
          "text": [
            "100%|██████████| 27/27 [00:01<00:00, 19.98it/s]"
          ],
          "name": "stderr"
        },
        {
          "output_type": "stream",
          "text": [
            "Epoch 68: Train loss 0.043995\n",
            "\n"
          ],
          "name": "stdout"
        },
        {
          "output_type": "stream",
          "text": [
            "\n",
            "  0%|          | 0/27 [00:00<?, ?it/s]"
          ],
          "name": "stderr"
        },
        {
          "output_type": "stream",
          "text": [
            "Valid loss: 0.5579\n",
            "\n",
            "Epoch: 69\n",
            "Learning rate = 0.001000\n",
            "\n"
          ],
          "name": "stdout"
        },
        {
          "output_type": "stream",
          "text": [
            "100%|██████████| 27/27 [00:01<00:00, 19.72it/s]"
          ],
          "name": "stderr"
        },
        {
          "output_type": "stream",
          "text": [
            "Epoch 69: Train loss 0.043158\n",
            "\n"
          ],
          "name": "stdout"
        },
        {
          "output_type": "stream",
          "text": [
            "\n",
            "  0%|          | 0/27 [00:00<?, ?it/s]"
          ],
          "name": "stderr"
        },
        {
          "output_type": "stream",
          "text": [
            "Valid loss: 0.5898\n",
            "\n",
            "Epoch: 70\n",
            "Learning rate = 0.001000\n",
            "\n"
          ],
          "name": "stdout"
        },
        {
          "output_type": "stream",
          "text": [
            "100%|██████████| 27/27 [00:01<00:00, 20.46it/s]"
          ],
          "name": "stderr"
        },
        {
          "output_type": "stream",
          "text": [
            "Epoch 70: Train loss 0.042961\n",
            "\n"
          ],
          "name": "stdout"
        },
        {
          "output_type": "stream",
          "text": [
            "\n",
            "  0%|          | 0/27 [00:00<?, ?it/s]"
          ],
          "name": "stderr"
        },
        {
          "output_type": "stream",
          "text": [
            "Valid loss: 0.6112\n",
            "\n",
            "Epoch: 71\n",
            "Learning rate = 0.001000\n",
            "\n"
          ],
          "name": "stdout"
        },
        {
          "output_type": "stream",
          "text": [
            "100%|██████████| 27/27 [00:01<00:00, 20.08it/s]"
          ],
          "name": "stderr"
        },
        {
          "output_type": "stream",
          "text": [
            "Epoch 71: Train loss 0.042586\n",
            "\n"
          ],
          "name": "stdout"
        },
        {
          "output_type": "stream",
          "text": [
            "\n",
            "  0%|          | 0/27 [00:00<?, ?it/s]"
          ],
          "name": "stderr"
        },
        {
          "output_type": "stream",
          "text": [
            "Valid loss: 0.6049\n",
            "\n",
            "Epoch: 72\n",
            "Learning rate = 0.001000\n",
            "\n"
          ],
          "name": "stdout"
        },
        {
          "output_type": "stream",
          "text": [
            "100%|██████████| 27/27 [00:01<00:00, 19.95it/s]"
          ],
          "name": "stderr"
        },
        {
          "output_type": "stream",
          "text": [
            "Epoch 72: Train loss 0.042129\n",
            "\n"
          ],
          "name": "stdout"
        },
        {
          "output_type": "stream",
          "text": [
            "\n",
            "  0%|          | 0/27 [00:00<?, ?it/s]"
          ],
          "name": "stderr"
        },
        {
          "output_type": "stream",
          "text": [
            "Valid loss: 0.6059\n",
            "\n",
            "Epoch: 73\n",
            "Learning rate = 0.001000\n",
            "\n"
          ],
          "name": "stdout"
        },
        {
          "output_type": "stream",
          "text": [
            "100%|██████████| 27/27 [00:01<00:00, 20.41it/s]"
          ],
          "name": "stderr"
        },
        {
          "output_type": "stream",
          "text": [
            "Epoch 73: Train loss 0.041223\n",
            "\n"
          ],
          "name": "stdout"
        },
        {
          "output_type": "stream",
          "text": [
            "\n",
            "  0%|          | 0/27 [00:00<?, ?it/s]"
          ],
          "name": "stderr"
        },
        {
          "output_type": "stream",
          "text": [
            "Valid loss: 0.5960\n",
            "\n",
            "Epoch: 74\n",
            "Learning rate = 0.001000\n",
            "\n"
          ],
          "name": "stdout"
        },
        {
          "output_type": "stream",
          "text": [
            "100%|██████████| 27/27 [00:01<00:00, 20.08it/s]"
          ],
          "name": "stderr"
        },
        {
          "output_type": "stream",
          "text": [
            "Epoch 74: Train loss 0.040506\n",
            "\n"
          ],
          "name": "stdout"
        },
        {
          "output_type": "stream",
          "text": [
            "\n",
            "  0%|          | 0/27 [00:00<?, ?it/s]"
          ],
          "name": "stderr"
        },
        {
          "output_type": "stream",
          "text": [
            "Valid loss: 0.5960\n",
            "\n",
            "Epoch: 75\n",
            "Learning rate = 0.001000\n",
            "\n"
          ],
          "name": "stdout"
        },
        {
          "output_type": "stream",
          "text": [
            "100%|██████████| 27/27 [00:01<00:00, 20.36it/s]"
          ],
          "name": "stderr"
        },
        {
          "output_type": "stream",
          "text": [
            "Epoch 75: Train loss 0.040103\n",
            "\n"
          ],
          "name": "stdout"
        },
        {
          "output_type": "stream",
          "text": [
            "\n",
            "  0%|          | 0/27 [00:00<?, ?it/s]"
          ],
          "name": "stderr"
        },
        {
          "output_type": "stream",
          "text": [
            "Valid loss: 0.5830\n",
            "\n",
            "Epoch: 76\n",
            "Learning rate = 0.001000\n",
            "\n"
          ],
          "name": "stdout"
        },
        {
          "output_type": "stream",
          "text": [
            "100%|██████████| 27/27 [00:01<00:00, 20.33it/s]"
          ],
          "name": "stderr"
        },
        {
          "output_type": "stream",
          "text": [
            "Epoch 76: Train loss 0.039948\n",
            "\n"
          ],
          "name": "stdout"
        },
        {
          "output_type": "stream",
          "text": [
            "\n",
            "  0%|          | 0/27 [00:00<?, ?it/s]"
          ],
          "name": "stderr"
        },
        {
          "output_type": "stream",
          "text": [
            "Valid loss: 0.6336\n",
            "\n",
            "Epoch: 77\n",
            "Learning rate = 0.001000\n",
            "\n"
          ],
          "name": "stdout"
        },
        {
          "output_type": "stream",
          "text": [
            "100%|██████████| 27/27 [00:01<00:00, 19.96it/s]"
          ],
          "name": "stderr"
        },
        {
          "output_type": "stream",
          "text": [
            "Epoch 77: Train loss 0.039358\n",
            "\n"
          ],
          "name": "stdout"
        },
        {
          "output_type": "stream",
          "text": [
            "\n",
            "  0%|          | 0/27 [00:00<?, ?it/s]"
          ],
          "name": "stderr"
        },
        {
          "output_type": "stream",
          "text": [
            "Valid loss: 0.5992\n",
            "\n",
            "Epoch: 78\n",
            "Learning rate = 0.001000\n",
            "\n"
          ],
          "name": "stdout"
        },
        {
          "output_type": "stream",
          "text": [
            "100%|██████████| 27/27 [00:01<00:00, 20.09it/s]"
          ],
          "name": "stderr"
        },
        {
          "output_type": "stream",
          "text": [
            "Epoch 78: Train loss 0.039355\n",
            "\n"
          ],
          "name": "stdout"
        },
        {
          "output_type": "stream",
          "text": [
            "\n",
            "  0%|          | 0/27 [00:00<?, ?it/s]"
          ],
          "name": "stderr"
        },
        {
          "output_type": "stream",
          "text": [
            "Valid loss: 0.6527\n",
            "\n",
            "Epoch: 79\n",
            "Learning rate = 0.001000\n",
            "\n"
          ],
          "name": "stdout"
        },
        {
          "output_type": "stream",
          "text": [
            "100%|██████████| 27/27 [00:01<00:00, 20.14it/s]"
          ],
          "name": "stderr"
        },
        {
          "output_type": "stream",
          "text": [
            "Epoch 79: Train loss 0.038605\n",
            "\n"
          ],
          "name": "stdout"
        },
        {
          "output_type": "stream",
          "text": [
            "\n",
            "  0%|          | 0/27 [00:00<?, ?it/s]"
          ],
          "name": "stderr"
        },
        {
          "output_type": "stream",
          "text": [
            "Valid loss: 0.6260\n",
            "\n",
            "Epoch: 80\n",
            "Learning rate = 0.001000\n",
            "\n"
          ],
          "name": "stdout"
        },
        {
          "output_type": "stream",
          "text": [
            "100%|██████████| 27/27 [00:01<00:00, 20.23it/s]"
          ],
          "name": "stderr"
        },
        {
          "output_type": "stream",
          "text": [
            "Epoch 80: Train loss 0.038078\n",
            "\n"
          ],
          "name": "stdout"
        },
        {
          "output_type": "stream",
          "text": [
            "\n",
            "  0%|          | 0/27 [00:00<?, ?it/s]"
          ],
          "name": "stderr"
        },
        {
          "output_type": "stream",
          "text": [
            "Valid loss: 0.6643\n",
            "\n",
            "Epoch: 81\n",
            "Learning rate = 0.001000\n",
            "\n"
          ],
          "name": "stdout"
        },
        {
          "output_type": "stream",
          "text": [
            "100%|██████████| 27/27 [00:01<00:00, 19.89it/s]"
          ],
          "name": "stderr"
        },
        {
          "output_type": "stream",
          "text": [
            "Epoch 81: Train loss 0.037924\n",
            "\n"
          ],
          "name": "stdout"
        },
        {
          "output_type": "stream",
          "text": [
            "\n",
            "  0%|          | 0/27 [00:00<?, ?it/s]"
          ],
          "name": "stderr"
        },
        {
          "output_type": "stream",
          "text": [
            "Valid loss: 0.6447\n",
            "\n",
            "Epoch: 82\n",
            "Learning rate = 0.001000\n",
            "\n"
          ],
          "name": "stdout"
        },
        {
          "output_type": "stream",
          "text": [
            "100%|██████████| 27/27 [00:01<00:00, 19.98it/s]"
          ],
          "name": "stderr"
        },
        {
          "output_type": "stream",
          "text": [
            "Epoch 82: Train loss 0.037157\n",
            "\n"
          ],
          "name": "stdout"
        },
        {
          "output_type": "stream",
          "text": [
            "\n",
            "  0%|          | 0/27 [00:00<?, ?it/s]"
          ],
          "name": "stderr"
        },
        {
          "output_type": "stream",
          "text": [
            "Valid loss: 0.6645\n",
            "\n",
            "Epoch: 83\n",
            "Learning rate = 0.001000\n",
            "\n"
          ],
          "name": "stdout"
        },
        {
          "output_type": "stream",
          "text": [
            "100%|██████████| 27/27 [00:01<00:00, 20.49it/s]"
          ],
          "name": "stderr"
        },
        {
          "output_type": "stream",
          "text": [
            "Epoch 83: Train loss 0.036786\n",
            "\n"
          ],
          "name": "stdout"
        },
        {
          "output_type": "stream",
          "text": [
            "\n",
            "  0%|          | 0/27 [00:00<?, ?it/s]"
          ],
          "name": "stderr"
        },
        {
          "output_type": "stream",
          "text": [
            "Valid loss: 0.6468\n",
            "\n",
            "Epoch: 84\n",
            "Learning rate = 0.001000\n",
            "\n"
          ],
          "name": "stdout"
        },
        {
          "output_type": "stream",
          "text": [
            "100%|██████████| 27/27 [00:01<00:00, 19.78it/s]"
          ],
          "name": "stderr"
        },
        {
          "output_type": "stream",
          "text": [
            "Epoch 84: Train loss 0.036562\n",
            "\n"
          ],
          "name": "stdout"
        },
        {
          "output_type": "stream",
          "text": [
            "\n",
            "  0%|          | 0/27 [00:00<?, ?it/s]"
          ],
          "name": "stderr"
        },
        {
          "output_type": "stream",
          "text": [
            "Valid loss: 0.6865\n",
            "\n",
            "Epoch: 85\n",
            "Learning rate = 0.001000\n",
            "\n"
          ],
          "name": "stdout"
        },
        {
          "output_type": "stream",
          "text": [
            "100%|██████████| 27/27 [00:01<00:00, 20.13it/s]"
          ],
          "name": "stderr"
        },
        {
          "output_type": "stream",
          "text": [
            "Epoch 85: Train loss 0.036001\n",
            "\n"
          ],
          "name": "stdout"
        },
        {
          "output_type": "stream",
          "text": [
            "\n",
            "  0%|          | 0/27 [00:00<?, ?it/s]"
          ],
          "name": "stderr"
        },
        {
          "output_type": "stream",
          "text": [
            "Valid loss: 0.6833\n",
            "\n",
            "Epoch: 86\n",
            "Learning rate = 0.001000\n",
            "\n"
          ],
          "name": "stdout"
        },
        {
          "output_type": "stream",
          "text": [
            "100%|██████████| 27/27 [00:01<00:00, 20.11it/s]"
          ],
          "name": "stderr"
        },
        {
          "output_type": "stream",
          "text": [
            "Epoch 86: Train loss 0.035637\n",
            "\n"
          ],
          "name": "stdout"
        },
        {
          "output_type": "stream",
          "text": [
            "\n",
            "  0%|          | 0/27 [00:00<?, ?it/s]"
          ],
          "name": "stderr"
        },
        {
          "output_type": "stream",
          "text": [
            "Valid loss: 0.6919\n",
            "\n",
            "Epoch: 87\n",
            "Learning rate = 0.001000\n",
            "\n"
          ],
          "name": "stdout"
        },
        {
          "output_type": "stream",
          "text": [
            "100%|██████████| 27/27 [00:01<00:00, 20.11it/s]"
          ],
          "name": "stderr"
        },
        {
          "output_type": "stream",
          "text": [
            "Epoch 87: Train loss 0.035267\n",
            "\n"
          ],
          "name": "stdout"
        },
        {
          "output_type": "stream",
          "text": [
            "\n",
            "  0%|          | 0/27 [00:00<?, ?it/s]"
          ],
          "name": "stderr"
        },
        {
          "output_type": "stream",
          "text": [
            "Valid loss: 0.6526\n",
            "\n",
            "Epoch: 88\n",
            "Learning rate = 0.001000\n",
            "\n"
          ],
          "name": "stdout"
        },
        {
          "output_type": "stream",
          "text": [
            "100%|██████████| 27/27 [00:01<00:00, 19.92it/s]"
          ],
          "name": "stderr"
        },
        {
          "output_type": "stream",
          "text": [
            "Epoch 88: Train loss 0.035208\n",
            "\n"
          ],
          "name": "stdout"
        },
        {
          "output_type": "stream",
          "text": [
            "\n",
            "  0%|          | 0/27 [00:00<?, ?it/s]"
          ],
          "name": "stderr"
        },
        {
          "output_type": "stream",
          "text": [
            "Valid loss: 0.6850\n",
            "\n",
            "Epoch: 89\n",
            "Learning rate = 0.001000\n",
            "\n"
          ],
          "name": "stdout"
        },
        {
          "output_type": "stream",
          "text": [
            "100%|██████████| 27/27 [00:01<00:00, 19.73it/s]"
          ],
          "name": "stderr"
        },
        {
          "output_type": "stream",
          "text": [
            "Epoch 89: Train loss 0.034919\n",
            "\n"
          ],
          "name": "stdout"
        },
        {
          "output_type": "stream",
          "text": [
            "\n",
            "  0%|          | 0/27 [00:00<?, ?it/s]"
          ],
          "name": "stderr"
        },
        {
          "output_type": "stream",
          "text": [
            "Valid loss: 0.7176\n",
            "\n",
            "Epoch: 90\n",
            "Learning rate = 0.001000\n",
            "\n"
          ],
          "name": "stdout"
        },
        {
          "output_type": "stream",
          "text": [
            "100%|██████████| 27/27 [00:01<00:00, 20.17it/s]"
          ],
          "name": "stderr"
        },
        {
          "output_type": "stream",
          "text": [
            "Epoch 90: Train loss 0.034490\n",
            "\n"
          ],
          "name": "stdout"
        },
        {
          "output_type": "stream",
          "text": [
            "\n",
            "  0%|          | 0/27 [00:00<?, ?it/s]"
          ],
          "name": "stderr"
        },
        {
          "output_type": "stream",
          "text": [
            "Valid loss: 0.6513\n",
            "\n",
            "Epoch: 91\n",
            "Learning rate = 0.001000\n",
            "\n"
          ],
          "name": "stdout"
        },
        {
          "output_type": "stream",
          "text": [
            "100%|██████████| 27/27 [00:01<00:00, 20.16it/s]"
          ],
          "name": "stderr"
        },
        {
          "output_type": "stream",
          "text": [
            "Epoch 91: Train loss 0.034297\n",
            "\n"
          ],
          "name": "stdout"
        },
        {
          "output_type": "stream",
          "text": [
            "\n",
            "  0%|          | 0/27 [00:00<?, ?it/s]"
          ],
          "name": "stderr"
        },
        {
          "output_type": "stream",
          "text": [
            "Valid loss: 0.7238\n",
            "\n",
            "Epoch: 92\n",
            "Learning rate = 0.001000\n",
            "\n"
          ],
          "name": "stdout"
        },
        {
          "output_type": "stream",
          "text": [
            "100%|██████████| 27/27 [00:01<00:00, 20.20it/s]"
          ],
          "name": "stderr"
        },
        {
          "output_type": "stream",
          "text": [
            "Epoch 92: Train loss 0.034096\n",
            "\n"
          ],
          "name": "stdout"
        },
        {
          "output_type": "stream",
          "text": [
            "\n",
            "  0%|          | 0/27 [00:00<?, ?it/s]"
          ],
          "name": "stderr"
        },
        {
          "output_type": "stream",
          "text": [
            "Valid loss: 0.6829\n",
            "\n",
            "Epoch: 93\n",
            "Learning rate = 0.001000\n",
            "\n"
          ],
          "name": "stdout"
        },
        {
          "output_type": "stream",
          "text": [
            "100%|██████████| 27/27 [00:01<00:00, 20.12it/s]"
          ],
          "name": "stderr"
        },
        {
          "output_type": "stream",
          "text": [
            "Epoch 93: Train loss 0.033780\n",
            "\n"
          ],
          "name": "stdout"
        },
        {
          "output_type": "stream",
          "text": [
            "\n",
            "  0%|          | 0/27 [00:00<?, ?it/s]"
          ],
          "name": "stderr"
        },
        {
          "output_type": "stream",
          "text": [
            "Valid loss: 0.6715\n",
            "\n",
            "Epoch: 94\n",
            "Learning rate = 0.001000\n",
            "\n"
          ],
          "name": "stdout"
        },
        {
          "output_type": "stream",
          "text": [
            "100%|██████████| 27/27 [00:01<00:00, 20.15it/s]"
          ],
          "name": "stderr"
        },
        {
          "output_type": "stream",
          "text": [
            "Epoch 94: Train loss 0.033232\n",
            "\n"
          ],
          "name": "stdout"
        },
        {
          "output_type": "stream",
          "text": [
            "\n",
            "  0%|          | 0/27 [00:00<?, ?it/s]"
          ],
          "name": "stderr"
        },
        {
          "output_type": "stream",
          "text": [
            "Valid loss: 0.7618\n",
            "\n",
            "Epoch: 95\n",
            "Learning rate = 0.001000\n",
            "\n"
          ],
          "name": "stdout"
        },
        {
          "output_type": "stream",
          "text": [
            "100%|██████████| 27/27 [00:01<00:00, 20.03it/s]"
          ],
          "name": "stderr"
        },
        {
          "output_type": "stream",
          "text": [
            "Epoch 95: Train loss 0.033401\n",
            "\n"
          ],
          "name": "stdout"
        },
        {
          "output_type": "stream",
          "text": [
            "\n",
            "  0%|          | 0/27 [00:00<?, ?it/s]"
          ],
          "name": "stderr"
        },
        {
          "output_type": "stream",
          "text": [
            "Valid loss: 0.6959\n",
            "\n",
            "Epoch: 96\n",
            "Learning rate = 0.001000\n",
            "\n"
          ],
          "name": "stdout"
        },
        {
          "output_type": "stream",
          "text": [
            "100%|██████████| 27/27 [00:01<00:00, 20.03it/s]"
          ],
          "name": "stderr"
        },
        {
          "output_type": "stream",
          "text": [
            "Epoch 96: Train loss 0.032451\n",
            "\n"
          ],
          "name": "stdout"
        },
        {
          "output_type": "stream",
          "text": [
            "\n",
            "  0%|          | 0/27 [00:00<?, ?it/s]"
          ],
          "name": "stderr"
        },
        {
          "output_type": "stream",
          "text": [
            "Valid loss: 0.7409\n",
            "\n",
            "Epoch: 97\n",
            "Learning rate = 0.001000\n",
            "\n"
          ],
          "name": "stdout"
        },
        {
          "output_type": "stream",
          "text": [
            "100%|██████████| 27/27 [00:01<00:00, 20.22it/s]"
          ],
          "name": "stderr"
        },
        {
          "output_type": "stream",
          "text": [
            "Epoch 97: Train loss 0.032556\n",
            "\n"
          ],
          "name": "stdout"
        },
        {
          "output_type": "stream",
          "text": [
            "\n",
            "  0%|          | 0/27 [00:00<?, ?it/s]"
          ],
          "name": "stderr"
        },
        {
          "output_type": "stream",
          "text": [
            "Valid loss: 0.6967\n",
            "\n",
            "Epoch: 98\n",
            "Learning rate = 0.001000\n",
            "\n"
          ],
          "name": "stdout"
        },
        {
          "output_type": "stream",
          "text": [
            "100%|██████████| 27/27 [00:01<00:00, 19.88it/s]"
          ],
          "name": "stderr"
        },
        {
          "output_type": "stream",
          "text": [
            "Epoch 98: Train loss 0.032679\n",
            "\n"
          ],
          "name": "stdout"
        },
        {
          "output_type": "stream",
          "text": [
            "\n",
            "  0%|          | 0/27 [00:00<?, ?it/s]"
          ],
          "name": "stderr"
        },
        {
          "output_type": "stream",
          "text": [
            "Valid loss: 0.6878\n",
            "\n",
            "Epoch: 99\n",
            "Learning rate = 0.001000\n",
            "\n"
          ],
          "name": "stdout"
        },
        {
          "output_type": "stream",
          "text": [
            "100%|██████████| 27/27 [00:01<00:00, 19.90it/s]"
          ],
          "name": "stderr"
        },
        {
          "output_type": "stream",
          "text": [
            "Epoch 99: Train loss 0.031965\n",
            "\n"
          ],
          "name": "stdout"
        },
        {
          "output_type": "stream",
          "text": [
            "\n",
            "  0%|          | 0/27 [00:00<?, ?it/s]"
          ],
          "name": "stderr"
        },
        {
          "output_type": "stream",
          "text": [
            "Valid loss: 0.8004\n",
            "\n",
            "Epoch: 100\n",
            "Learning rate = 0.001000\n",
            "\n"
          ],
          "name": "stdout"
        },
        {
          "output_type": "stream",
          "text": [
            "100%|██████████| 27/27 [00:01<00:00, 19.72it/s]"
          ],
          "name": "stderr"
        },
        {
          "output_type": "stream",
          "text": [
            "Epoch 100: Train loss 0.031554\n",
            "\n"
          ],
          "name": "stdout"
        },
        {
          "output_type": "stream",
          "text": [
            "\n",
            "  0%|          | 0/27 [00:00<?, ?it/s]"
          ],
          "name": "stderr"
        },
        {
          "output_type": "stream",
          "text": [
            "Valid loss: 0.7140\n",
            "\n",
            "Epoch: 101\n",
            "Learning rate = 0.001000\n",
            "\n"
          ],
          "name": "stdout"
        },
        {
          "output_type": "stream",
          "text": [
            "100%|██████████| 27/27 [00:01<00:00, 20.05it/s]"
          ],
          "name": "stderr"
        },
        {
          "output_type": "stream",
          "text": [
            "Epoch 101: Train loss 0.031329\n",
            "\n"
          ],
          "name": "stdout"
        },
        {
          "output_type": "stream",
          "text": [
            "\n",
            "  0%|          | 0/27 [00:00<?, ?it/s]"
          ],
          "name": "stderr"
        },
        {
          "output_type": "stream",
          "text": [
            "Valid loss: 0.7336\n",
            "\n",
            "Epoch: 102\n",
            "Learning rate = 0.001000\n",
            "\n"
          ],
          "name": "stdout"
        },
        {
          "output_type": "stream",
          "text": [
            "100%|██████████| 27/27 [00:01<00:00, 20.00it/s]"
          ],
          "name": "stderr"
        },
        {
          "output_type": "stream",
          "text": [
            "Epoch 102: Train loss 0.031006\n",
            "\n"
          ],
          "name": "stdout"
        },
        {
          "output_type": "stream",
          "text": [
            "\n",
            "  0%|          | 0/27 [00:00<?, ?it/s]"
          ],
          "name": "stderr"
        },
        {
          "output_type": "stream",
          "text": [
            "Valid loss: 0.8293\n",
            "\n",
            "Epoch: 103\n",
            "Learning rate = 0.001000\n",
            "\n"
          ],
          "name": "stdout"
        },
        {
          "output_type": "stream",
          "text": [
            "100%|██████████| 27/27 [00:01<00:00, 19.76it/s]"
          ],
          "name": "stderr"
        },
        {
          "output_type": "stream",
          "text": [
            "Epoch 103: Train loss 0.031014\n",
            "\n"
          ],
          "name": "stdout"
        },
        {
          "output_type": "stream",
          "text": [
            "\n",
            "  0%|          | 0/27 [00:00<?, ?it/s]"
          ],
          "name": "stderr"
        },
        {
          "output_type": "stream",
          "text": [
            "Valid loss: 0.7446\n",
            "\n",
            "Epoch: 104\n",
            "Learning rate = 0.001000\n",
            "\n"
          ],
          "name": "stdout"
        },
        {
          "output_type": "stream",
          "text": [
            "100%|██████████| 27/27 [00:01<00:00, 20.16it/s]"
          ],
          "name": "stderr"
        },
        {
          "output_type": "stream",
          "text": [
            "Epoch 104: Train loss 0.030028\n",
            "\n"
          ],
          "name": "stdout"
        },
        {
          "output_type": "stream",
          "text": [
            "\n",
            "  0%|          | 0/27 [00:00<?, ?it/s]"
          ],
          "name": "stderr"
        },
        {
          "output_type": "stream",
          "text": [
            "Valid loss: 0.7576\n",
            "\n",
            "Epoch: 105\n",
            "Learning rate = 0.001000\n",
            "\n"
          ],
          "name": "stdout"
        },
        {
          "output_type": "stream",
          "text": [
            "100%|██████████| 27/27 [00:01<00:00, 20.37it/s]"
          ],
          "name": "stderr"
        },
        {
          "output_type": "stream",
          "text": [
            "Epoch 105: Train loss 0.029946\n",
            "\n"
          ],
          "name": "stdout"
        },
        {
          "output_type": "stream",
          "text": [
            "\n",
            "  0%|          | 0/27 [00:00<?, ?it/s]"
          ],
          "name": "stderr"
        },
        {
          "output_type": "stream",
          "text": [
            "Valid loss: 0.7395\n",
            "\n",
            "Epoch: 106\n",
            "Learning rate = 0.001000\n",
            "\n"
          ],
          "name": "stdout"
        },
        {
          "output_type": "stream",
          "text": [
            "100%|██████████| 27/27 [00:01<00:00, 20.09it/s]"
          ],
          "name": "stderr"
        },
        {
          "output_type": "stream",
          "text": [
            "Epoch 106: Train loss 0.029713\n",
            "\n"
          ],
          "name": "stdout"
        },
        {
          "output_type": "stream",
          "text": [
            "\n",
            "  0%|          | 0/27 [00:00<?, ?it/s]"
          ],
          "name": "stderr"
        },
        {
          "output_type": "stream",
          "text": [
            "Valid loss: 0.7657\n",
            "\n",
            "Epoch: 107\n",
            "Learning rate = 0.001000\n",
            "\n"
          ],
          "name": "stdout"
        },
        {
          "output_type": "stream",
          "text": [
            "100%|██████████| 27/27 [00:01<00:00, 20.01it/s]"
          ],
          "name": "stderr"
        },
        {
          "output_type": "stream",
          "text": [
            "Epoch 107: Train loss 0.029205\n",
            "\n"
          ],
          "name": "stdout"
        },
        {
          "output_type": "stream",
          "text": [
            "\n",
            "  0%|          | 0/27 [00:00<?, ?it/s]"
          ],
          "name": "stderr"
        },
        {
          "output_type": "stream",
          "text": [
            "Valid loss: 0.7768\n",
            "\n",
            "Epoch: 108\n",
            "Learning rate = 0.001000\n",
            "\n"
          ],
          "name": "stdout"
        },
        {
          "output_type": "stream",
          "text": [
            "100%|██████████| 27/27 [00:01<00:00, 20.06it/s]"
          ],
          "name": "stderr"
        },
        {
          "output_type": "stream",
          "text": [
            "Epoch 108: Train loss 0.028980\n",
            "\n"
          ],
          "name": "stdout"
        },
        {
          "output_type": "stream",
          "text": [
            "\n",
            "  0%|          | 0/27 [00:00<?, ?it/s]"
          ],
          "name": "stderr"
        },
        {
          "output_type": "stream",
          "text": [
            "Valid loss: 0.7862\n",
            "\n",
            "Epoch: 109\n",
            "Learning rate = 0.001000\n",
            "\n"
          ],
          "name": "stdout"
        },
        {
          "output_type": "stream",
          "text": [
            "100%|██████████| 27/27 [00:01<00:00, 20.28it/s]"
          ],
          "name": "stderr"
        },
        {
          "output_type": "stream",
          "text": [
            "Epoch 109: Train loss 0.029061\n",
            "\n"
          ],
          "name": "stdout"
        },
        {
          "output_type": "stream",
          "text": [
            "\n",
            "  0%|          | 0/27 [00:00<?, ?it/s]"
          ],
          "name": "stderr"
        },
        {
          "output_type": "stream",
          "text": [
            "Valid loss: 0.7747\n",
            "\n",
            "Epoch: 110\n",
            "Learning rate = 0.001000\n",
            "\n"
          ],
          "name": "stdout"
        },
        {
          "output_type": "stream",
          "text": [
            "100%|██████████| 27/27 [00:01<00:00, 19.97it/s]"
          ],
          "name": "stderr"
        },
        {
          "output_type": "stream",
          "text": [
            "Epoch 110: Train loss 0.029151\n",
            "\n"
          ],
          "name": "stdout"
        },
        {
          "output_type": "stream",
          "text": [
            "\n",
            "  0%|          | 0/27 [00:00<?, ?it/s]"
          ],
          "name": "stderr"
        },
        {
          "output_type": "stream",
          "text": [
            "Valid loss: 0.7889\n",
            "\n",
            "Epoch: 111\n",
            "Learning rate = 0.001000\n",
            "\n"
          ],
          "name": "stdout"
        },
        {
          "output_type": "stream",
          "text": [
            "100%|██████████| 27/27 [00:01<00:00, 20.06it/s]"
          ],
          "name": "stderr"
        },
        {
          "output_type": "stream",
          "text": [
            "Epoch 111: Train loss 0.029018\n",
            "\n"
          ],
          "name": "stdout"
        },
        {
          "output_type": "stream",
          "text": [
            "\n",
            "  0%|          | 0/27 [00:00<?, ?it/s]"
          ],
          "name": "stderr"
        },
        {
          "output_type": "stream",
          "text": [
            "Valid loss: 0.7500\n",
            "\n",
            "Epoch: 112\n",
            "Learning rate = 0.001000\n",
            "\n"
          ],
          "name": "stdout"
        },
        {
          "output_type": "stream",
          "text": [
            "100%|██████████| 27/27 [00:01<00:00, 20.08it/s]"
          ],
          "name": "stderr"
        },
        {
          "output_type": "stream",
          "text": [
            "Epoch 112: Train loss 0.028382\n",
            "\n"
          ],
          "name": "stdout"
        },
        {
          "output_type": "stream",
          "text": [
            "\n",
            "  0%|          | 0/27 [00:00<?, ?it/s]"
          ],
          "name": "stderr"
        },
        {
          "output_type": "stream",
          "text": [
            "Valid loss: 0.7961\n",
            "\n",
            "Epoch: 113\n",
            "Learning rate = 0.001000\n",
            "\n"
          ],
          "name": "stdout"
        },
        {
          "output_type": "stream",
          "text": [
            "100%|██████████| 27/27 [00:01<00:00, 19.95it/s]"
          ],
          "name": "stderr"
        },
        {
          "output_type": "stream",
          "text": [
            "Epoch 113: Train loss 0.027940\n",
            "\n"
          ],
          "name": "stdout"
        },
        {
          "output_type": "stream",
          "text": [
            "\n",
            "  0%|          | 0/27 [00:00<?, ?it/s]"
          ],
          "name": "stderr"
        },
        {
          "output_type": "stream",
          "text": [
            "Valid loss: 0.7828\n",
            "\n",
            "Epoch: 114\n",
            "Learning rate = 0.001000\n",
            "\n"
          ],
          "name": "stdout"
        },
        {
          "output_type": "stream",
          "text": [
            "100%|██████████| 27/27 [00:01<00:00, 20.04it/s]"
          ],
          "name": "stderr"
        },
        {
          "output_type": "stream",
          "text": [
            "Epoch 114: Train loss 0.027662\n",
            "\n"
          ],
          "name": "stdout"
        },
        {
          "output_type": "stream",
          "text": [
            "\n",
            "  0%|          | 0/27 [00:00<?, ?it/s]"
          ],
          "name": "stderr"
        },
        {
          "output_type": "stream",
          "text": [
            "Valid loss: 0.8141\n",
            "\n",
            "Epoch: 115\n",
            "Learning rate = 0.001000\n",
            "\n"
          ],
          "name": "stdout"
        },
        {
          "output_type": "stream",
          "text": [
            "100%|██████████| 27/27 [00:01<00:00, 19.60it/s]"
          ],
          "name": "stderr"
        },
        {
          "output_type": "stream",
          "text": [
            "Epoch 115: Train loss 0.027251\n",
            "\n"
          ],
          "name": "stdout"
        },
        {
          "output_type": "stream",
          "text": [
            "\n",
            "  0%|          | 0/27 [00:00<?, ?it/s]"
          ],
          "name": "stderr"
        },
        {
          "output_type": "stream",
          "text": [
            "Valid loss: 0.8387\n",
            "\n",
            "Epoch: 116\n",
            "Learning rate = 0.001000\n",
            "\n"
          ],
          "name": "stdout"
        },
        {
          "output_type": "stream",
          "text": [
            "100%|██████████| 27/27 [00:01<00:00, 20.17it/s]"
          ],
          "name": "stderr"
        },
        {
          "output_type": "stream",
          "text": [
            "Epoch 116: Train loss 0.026733\n",
            "\n"
          ],
          "name": "stdout"
        },
        {
          "output_type": "stream",
          "text": [
            "\n",
            "  0%|          | 0/27 [00:00<?, ?it/s]"
          ],
          "name": "stderr"
        },
        {
          "output_type": "stream",
          "text": [
            "Valid loss: 0.8422\n",
            "\n",
            "Epoch: 117\n",
            "Learning rate = 0.001000\n",
            "\n"
          ],
          "name": "stdout"
        },
        {
          "output_type": "stream",
          "text": [
            "100%|██████████| 27/27 [00:01<00:00, 19.93it/s]"
          ],
          "name": "stderr"
        },
        {
          "output_type": "stream",
          "text": [
            "Epoch 117: Train loss 0.026849\n",
            "\n"
          ],
          "name": "stdout"
        },
        {
          "output_type": "stream",
          "text": [
            "\n",
            "  0%|          | 0/27 [00:00<?, ?it/s]"
          ],
          "name": "stderr"
        },
        {
          "output_type": "stream",
          "text": [
            "Valid loss: 0.8253\n",
            "\n",
            "Epoch: 118\n",
            "Learning rate = 0.001000\n",
            "\n"
          ],
          "name": "stdout"
        },
        {
          "output_type": "stream",
          "text": [
            "100%|██████████| 27/27 [00:01<00:00, 20.37it/s]"
          ],
          "name": "stderr"
        },
        {
          "output_type": "stream",
          "text": [
            "Epoch 118: Train loss 0.026576\n",
            "\n"
          ],
          "name": "stdout"
        },
        {
          "output_type": "stream",
          "text": [
            "\n",
            "  0%|          | 0/27 [00:00<?, ?it/s]"
          ],
          "name": "stderr"
        },
        {
          "output_type": "stream",
          "text": [
            "Valid loss: 0.8469\n",
            "\n",
            "Epoch: 119\n",
            "Learning rate = 0.001000\n",
            "\n"
          ],
          "name": "stdout"
        },
        {
          "output_type": "stream",
          "text": [
            "100%|██████████| 27/27 [00:01<00:00, 20.12it/s]"
          ],
          "name": "stderr"
        },
        {
          "output_type": "stream",
          "text": [
            "Epoch 119: Train loss 0.026133\n",
            "\n"
          ],
          "name": "stdout"
        },
        {
          "output_type": "stream",
          "text": [
            "\n",
            "  0%|          | 0/27 [00:00<?, ?it/s]"
          ],
          "name": "stderr"
        },
        {
          "output_type": "stream",
          "text": [
            "Valid loss: 0.8485\n",
            "\n",
            "Epoch: 120\n",
            "Learning rate = 0.001000\n",
            "\n"
          ],
          "name": "stdout"
        },
        {
          "output_type": "stream",
          "text": [
            "100%|██████████| 27/27 [00:01<00:00, 19.71it/s]"
          ],
          "name": "stderr"
        },
        {
          "output_type": "stream",
          "text": [
            "Epoch 120: Train loss 0.026105\n",
            "\n"
          ],
          "name": "stdout"
        },
        {
          "output_type": "stream",
          "text": [
            "\n",
            "  0%|          | 0/27 [00:00<?, ?it/s]"
          ],
          "name": "stderr"
        },
        {
          "output_type": "stream",
          "text": [
            "Valid loss: 0.8220\n",
            "\n",
            "Epoch: 121\n",
            "Learning rate = 0.001000\n",
            "\n"
          ],
          "name": "stdout"
        },
        {
          "output_type": "stream",
          "text": [
            "100%|██████████| 27/27 [00:01<00:00, 19.82it/s]"
          ],
          "name": "stderr"
        },
        {
          "output_type": "stream",
          "text": [
            "Epoch 121: Train loss 0.025883\n",
            "\n"
          ],
          "name": "stdout"
        },
        {
          "output_type": "stream",
          "text": [
            "\n",
            "  0%|          | 0/27 [00:00<?, ?it/s]"
          ],
          "name": "stderr"
        },
        {
          "output_type": "stream",
          "text": [
            "Valid loss: 0.8467\n",
            "\n",
            "Epoch: 122\n",
            "Learning rate = 0.001000\n",
            "\n"
          ],
          "name": "stdout"
        },
        {
          "output_type": "stream",
          "text": [
            "100%|██████████| 27/27 [00:01<00:00, 19.81it/s]"
          ],
          "name": "stderr"
        },
        {
          "output_type": "stream",
          "text": [
            "Epoch 122: Train loss 0.025787\n",
            "\n"
          ],
          "name": "stdout"
        },
        {
          "output_type": "stream",
          "text": [
            "\n",
            "  0%|          | 0/27 [00:00<?, ?it/s]"
          ],
          "name": "stderr"
        },
        {
          "output_type": "stream",
          "text": [
            "Valid loss: 0.7857\n",
            "\n",
            "Epoch: 123\n",
            "Learning rate = 0.001000\n",
            "\n"
          ],
          "name": "stdout"
        },
        {
          "output_type": "stream",
          "text": [
            "100%|██████████| 27/27 [00:01<00:00, 20.01it/s]"
          ],
          "name": "stderr"
        },
        {
          "output_type": "stream",
          "text": [
            "Epoch 123: Train loss 0.025857\n",
            "\n"
          ],
          "name": "stdout"
        },
        {
          "output_type": "stream",
          "text": [
            "\n",
            "  0%|          | 0/27 [00:00<?, ?it/s]"
          ],
          "name": "stderr"
        },
        {
          "output_type": "stream",
          "text": [
            "Valid loss: 0.8472\n",
            "\n",
            "Epoch: 124\n",
            "Learning rate = 0.001000\n",
            "\n"
          ],
          "name": "stdout"
        },
        {
          "output_type": "stream",
          "text": [
            "100%|██████████| 27/27 [00:01<00:00, 19.92it/s]"
          ],
          "name": "stderr"
        },
        {
          "output_type": "stream",
          "text": [
            "Epoch 124: Train loss 0.025441\n",
            "\n"
          ],
          "name": "stdout"
        },
        {
          "output_type": "stream",
          "text": [
            "\n",
            "  0%|          | 0/27 [00:00<?, ?it/s]"
          ],
          "name": "stderr"
        },
        {
          "output_type": "stream",
          "text": [
            "Valid loss: 0.8284\n",
            "\n",
            "Epoch: 125\n",
            "Learning rate = 0.001000\n",
            "\n"
          ],
          "name": "stdout"
        },
        {
          "output_type": "stream",
          "text": [
            "100%|██████████| 27/27 [00:01<00:00, 19.69it/s]"
          ],
          "name": "stderr"
        },
        {
          "output_type": "stream",
          "text": [
            "Epoch 125: Train loss 0.025578\n",
            "\n"
          ],
          "name": "stdout"
        },
        {
          "output_type": "stream",
          "text": [
            "\n",
            "  0%|          | 0/27 [00:00<?, ?it/s]"
          ],
          "name": "stderr"
        },
        {
          "output_type": "stream",
          "text": [
            "Valid loss: 0.7627\n",
            "\n",
            "Epoch: 126\n",
            "Learning rate = 0.001000\n",
            "\n"
          ],
          "name": "stdout"
        },
        {
          "output_type": "stream",
          "text": [
            "100%|██████████| 27/27 [00:01<00:00, 19.02it/s]"
          ],
          "name": "stderr"
        },
        {
          "output_type": "stream",
          "text": [
            "Epoch 126: Train loss 0.025730\n",
            "\n"
          ],
          "name": "stdout"
        },
        {
          "output_type": "stream",
          "text": [
            "\n",
            "  0%|          | 0/27 [00:00<?, ?it/s]"
          ],
          "name": "stderr"
        },
        {
          "output_type": "stream",
          "text": [
            "Valid loss: 0.8629\n",
            "\n",
            "Epoch: 127\n",
            "Learning rate = 0.001000\n",
            "\n"
          ],
          "name": "stdout"
        },
        {
          "output_type": "stream",
          "text": [
            "100%|██████████| 27/27 [00:01<00:00, 19.81it/s]"
          ],
          "name": "stderr"
        },
        {
          "output_type": "stream",
          "text": [
            "Epoch 127: Train loss 0.024947\n",
            "\n"
          ],
          "name": "stdout"
        },
        {
          "output_type": "stream",
          "text": [
            "\n",
            "  0%|          | 0/27 [00:00<?, ?it/s]"
          ],
          "name": "stderr"
        },
        {
          "output_type": "stream",
          "text": [
            "Valid loss: 0.8266\n",
            "\n",
            "Epoch: 128\n",
            "Learning rate = 0.001000\n",
            "\n"
          ],
          "name": "stdout"
        },
        {
          "output_type": "stream",
          "text": [
            "100%|██████████| 27/27 [00:01<00:00, 19.90it/s]"
          ],
          "name": "stderr"
        },
        {
          "output_type": "stream",
          "text": [
            "Epoch 128: Train loss 0.024596\n",
            "\n"
          ],
          "name": "stdout"
        },
        {
          "output_type": "stream",
          "text": [
            "\n",
            "  0%|          | 0/27 [00:00<?, ?it/s]"
          ],
          "name": "stderr"
        },
        {
          "output_type": "stream",
          "text": [
            "Valid loss: 0.8533\n",
            "\n",
            "Epoch: 129\n",
            "Learning rate = 0.001000\n",
            "\n"
          ],
          "name": "stdout"
        },
        {
          "output_type": "stream",
          "text": [
            "100%|██████████| 27/27 [00:01<00:00, 19.95it/s]"
          ],
          "name": "stderr"
        },
        {
          "output_type": "stream",
          "text": [
            "Epoch 129: Train loss 0.024311\n",
            "\n"
          ],
          "name": "stdout"
        },
        {
          "output_type": "stream",
          "text": [
            "\n",
            "  0%|          | 0/27 [00:00<?, ?it/s]"
          ],
          "name": "stderr"
        },
        {
          "output_type": "stream",
          "text": [
            "Valid loss: 0.8577\n",
            "\n",
            "Epoch: 130\n",
            "Learning rate = 0.001000\n",
            "\n"
          ],
          "name": "stdout"
        },
        {
          "output_type": "stream",
          "text": [
            "100%|██████████| 27/27 [00:01<00:00, 20.04it/s]"
          ],
          "name": "stderr"
        },
        {
          "output_type": "stream",
          "text": [
            "Epoch 130: Train loss 0.024147\n",
            "\n"
          ],
          "name": "stdout"
        },
        {
          "output_type": "stream",
          "text": [
            "\n",
            "  0%|          | 0/27 [00:00<?, ?it/s]"
          ],
          "name": "stderr"
        },
        {
          "output_type": "stream",
          "text": [
            "Valid loss: 0.9155\n",
            "\n",
            "Epoch: 131\n",
            "Learning rate = 0.001000\n",
            "\n"
          ],
          "name": "stdout"
        },
        {
          "output_type": "stream",
          "text": [
            "100%|██████████| 27/27 [00:01<00:00, 19.96it/s]"
          ],
          "name": "stderr"
        },
        {
          "output_type": "stream",
          "text": [
            "Epoch 131: Train loss 0.024027\n",
            "\n"
          ],
          "name": "stdout"
        },
        {
          "output_type": "stream",
          "text": [
            "\n",
            "  0%|          | 0/27 [00:00<?, ?it/s]"
          ],
          "name": "stderr"
        },
        {
          "output_type": "stream",
          "text": [
            "Valid loss: 0.8696\n",
            "\n",
            "Epoch: 132\n",
            "Learning rate = 0.001000\n",
            "\n"
          ],
          "name": "stdout"
        },
        {
          "output_type": "stream",
          "text": [
            "100%|██████████| 27/27 [00:01<00:00, 19.68it/s]"
          ],
          "name": "stderr"
        },
        {
          "output_type": "stream",
          "text": [
            "Epoch 132: Train loss 0.024496\n",
            "\n"
          ],
          "name": "stdout"
        },
        {
          "output_type": "stream",
          "text": [
            "\n",
            "  0%|          | 0/27 [00:00<?, ?it/s]"
          ],
          "name": "stderr"
        },
        {
          "output_type": "stream",
          "text": [
            "Valid loss: 0.8661\n",
            "\n",
            "Epoch: 133\n",
            "Learning rate = 0.001000\n",
            "\n"
          ],
          "name": "stdout"
        },
        {
          "output_type": "stream",
          "text": [
            "100%|██████████| 27/27 [00:01<00:00, 20.06it/s]"
          ],
          "name": "stderr"
        },
        {
          "output_type": "stream",
          "text": [
            "Epoch 133: Train loss 0.023903\n",
            "\n"
          ],
          "name": "stdout"
        },
        {
          "output_type": "stream",
          "text": [
            "\n",
            "  0%|          | 0/27 [00:00<?, ?it/s]"
          ],
          "name": "stderr"
        },
        {
          "output_type": "stream",
          "text": [
            "Valid loss: 0.8612\n",
            "\n",
            "Epoch: 134\n",
            "Learning rate = 0.001000\n",
            "\n"
          ],
          "name": "stdout"
        },
        {
          "output_type": "stream",
          "text": [
            "100%|██████████| 27/27 [00:01<00:00, 19.73it/s]"
          ],
          "name": "stderr"
        },
        {
          "output_type": "stream",
          "text": [
            "Epoch 134: Train loss 0.023686\n",
            "\n"
          ],
          "name": "stdout"
        },
        {
          "output_type": "stream",
          "text": [
            "\n",
            "  0%|          | 0/27 [00:00<?, ?it/s]"
          ],
          "name": "stderr"
        },
        {
          "output_type": "stream",
          "text": [
            "Valid loss: 0.8473\n",
            "\n",
            "Epoch: 135\n",
            "Learning rate = 0.001000\n",
            "\n"
          ],
          "name": "stdout"
        },
        {
          "output_type": "stream",
          "text": [
            "100%|██████████| 27/27 [00:01<00:00, 19.76it/s]"
          ],
          "name": "stderr"
        },
        {
          "output_type": "stream",
          "text": [
            "Epoch 135: Train loss 0.023222\n",
            "\n"
          ],
          "name": "stdout"
        },
        {
          "output_type": "stream",
          "text": [
            "\n",
            "  0%|          | 0/27 [00:00<?, ?it/s]"
          ],
          "name": "stderr"
        },
        {
          "output_type": "stream",
          "text": [
            "Valid loss: 0.9098\n",
            "\n",
            "Epoch: 136\n",
            "Learning rate = 0.001000\n",
            "\n"
          ],
          "name": "stdout"
        },
        {
          "output_type": "stream",
          "text": [
            "100%|██████████| 27/27 [00:01<00:00, 19.80it/s]"
          ],
          "name": "stderr"
        },
        {
          "output_type": "stream",
          "text": [
            "Epoch 136: Train loss 0.022805\n",
            "\n"
          ],
          "name": "stdout"
        },
        {
          "output_type": "stream",
          "text": [
            "\n",
            "  0%|          | 0/27 [00:00<?, ?it/s]"
          ],
          "name": "stderr"
        },
        {
          "output_type": "stream",
          "text": [
            "Valid loss: 0.8897\n",
            "\n",
            "Epoch: 137\n",
            "Learning rate = 0.001000\n",
            "\n"
          ],
          "name": "stdout"
        },
        {
          "output_type": "stream",
          "text": [
            "100%|██████████| 27/27 [00:01<00:00, 19.53it/s]"
          ],
          "name": "stderr"
        },
        {
          "output_type": "stream",
          "text": [
            "Epoch 137: Train loss 0.022590\n",
            "\n"
          ],
          "name": "stdout"
        },
        {
          "output_type": "stream",
          "text": [
            "\n",
            "  0%|          | 0/27 [00:00<?, ?it/s]"
          ],
          "name": "stderr"
        },
        {
          "output_type": "stream",
          "text": [
            "Valid loss: 0.9133\n",
            "\n",
            "Epoch: 138\n",
            "Learning rate = 0.001000\n",
            "\n"
          ],
          "name": "stdout"
        },
        {
          "output_type": "stream",
          "text": [
            "100%|██████████| 27/27 [00:01<00:00, 20.15it/s]"
          ],
          "name": "stderr"
        },
        {
          "output_type": "stream",
          "text": [
            "Epoch 138: Train loss 0.022487\n",
            "\n"
          ],
          "name": "stdout"
        },
        {
          "output_type": "stream",
          "text": [
            "\n",
            "  0%|          | 0/27 [00:00<?, ?it/s]"
          ],
          "name": "stderr"
        },
        {
          "output_type": "stream",
          "text": [
            "Valid loss: 0.8737\n",
            "\n",
            "Epoch: 139\n",
            "Learning rate = 0.001000\n",
            "\n"
          ],
          "name": "stdout"
        },
        {
          "output_type": "stream",
          "text": [
            "100%|██████████| 27/27 [00:01<00:00, 19.95it/s]"
          ],
          "name": "stderr"
        },
        {
          "output_type": "stream",
          "text": [
            "Epoch 139: Train loss 0.022536\n",
            "\n"
          ],
          "name": "stdout"
        },
        {
          "output_type": "stream",
          "text": [
            "\n",
            "  0%|          | 0/27 [00:00<?, ?it/s]"
          ],
          "name": "stderr"
        },
        {
          "output_type": "stream",
          "text": [
            "Valid loss: 0.9319\n",
            "\n",
            "Epoch: 140\n",
            "Learning rate = 0.001000\n",
            "\n"
          ],
          "name": "stdout"
        },
        {
          "output_type": "stream",
          "text": [
            "100%|██████████| 27/27 [00:01<00:00, 19.94it/s]"
          ],
          "name": "stderr"
        },
        {
          "output_type": "stream",
          "text": [
            "Epoch 140: Train loss 0.022562\n",
            "\n"
          ],
          "name": "stdout"
        },
        {
          "output_type": "stream",
          "text": [
            "\n",
            "  0%|          | 0/27 [00:00<?, ?it/s]"
          ],
          "name": "stderr"
        },
        {
          "output_type": "stream",
          "text": [
            "Valid loss: 0.8688\n",
            "\n",
            "Epoch: 141\n",
            "Learning rate = 0.001000\n",
            "\n"
          ],
          "name": "stdout"
        },
        {
          "output_type": "stream",
          "text": [
            "100%|██████████| 27/27 [00:01<00:00, 20.05it/s]"
          ],
          "name": "stderr"
        },
        {
          "output_type": "stream",
          "text": [
            "Epoch 141: Train loss 0.022403\n",
            "\n"
          ],
          "name": "stdout"
        },
        {
          "output_type": "stream",
          "text": [
            "\n",
            "  0%|          | 0/27 [00:00<?, ?it/s]"
          ],
          "name": "stderr"
        },
        {
          "output_type": "stream",
          "text": [
            "Valid loss: 0.9180\n",
            "\n",
            "Epoch: 142\n",
            "Learning rate = 0.001000\n",
            "\n"
          ],
          "name": "stdout"
        },
        {
          "output_type": "stream",
          "text": [
            "100%|██████████| 27/27 [00:01<00:00, 20.00it/s]"
          ],
          "name": "stderr"
        },
        {
          "output_type": "stream",
          "text": [
            "Epoch 142: Train loss 0.021925\n",
            "\n"
          ],
          "name": "stdout"
        },
        {
          "output_type": "stream",
          "text": [
            "\n",
            "  0%|          | 0/27 [00:00<?, ?it/s]"
          ],
          "name": "stderr"
        },
        {
          "output_type": "stream",
          "text": [
            "Valid loss: 0.8979\n",
            "\n",
            "Epoch: 143\n",
            "Learning rate = 0.001000\n",
            "\n"
          ],
          "name": "stdout"
        },
        {
          "output_type": "stream",
          "text": [
            "100%|██████████| 27/27 [00:01<00:00, 19.94it/s]"
          ],
          "name": "stderr"
        },
        {
          "output_type": "stream",
          "text": [
            "Epoch 143: Train loss 0.021707\n",
            "\n"
          ],
          "name": "stdout"
        },
        {
          "output_type": "stream",
          "text": [
            "\n",
            "  0%|          | 0/27 [00:00<?, ?it/s]"
          ],
          "name": "stderr"
        },
        {
          "output_type": "stream",
          "text": [
            "Valid loss: 0.9667\n",
            "\n",
            "Epoch: 144\n",
            "Learning rate = 0.001000\n",
            "\n"
          ],
          "name": "stdout"
        },
        {
          "output_type": "stream",
          "text": [
            "100%|██████████| 27/27 [00:01<00:00, 20.17it/s]"
          ],
          "name": "stderr"
        },
        {
          "output_type": "stream",
          "text": [
            "Epoch 144: Train loss 0.021619\n",
            "\n"
          ],
          "name": "stdout"
        },
        {
          "output_type": "stream",
          "text": [
            "\n",
            "  0%|          | 0/27 [00:00<?, ?it/s]"
          ],
          "name": "stderr"
        },
        {
          "output_type": "stream",
          "text": [
            "Valid loss: 0.9298\n",
            "\n",
            "Epoch: 145\n",
            "Learning rate = 0.001000\n",
            "\n"
          ],
          "name": "stdout"
        },
        {
          "output_type": "stream",
          "text": [
            "100%|██████████| 27/27 [00:01<00:00, 20.05it/s]"
          ],
          "name": "stderr"
        },
        {
          "output_type": "stream",
          "text": [
            "Epoch 145: Train loss 0.021815\n",
            "\n"
          ],
          "name": "stdout"
        },
        {
          "output_type": "stream",
          "text": [
            "\n",
            "  0%|          | 0/27 [00:00<?, ?it/s]"
          ],
          "name": "stderr"
        },
        {
          "output_type": "stream",
          "text": [
            "Valid loss: 0.9441\n",
            "\n",
            "Epoch: 146\n",
            "Learning rate = 0.001000\n",
            "\n"
          ],
          "name": "stdout"
        },
        {
          "output_type": "stream",
          "text": [
            "100%|██████████| 27/27 [00:01<00:00, 19.99it/s]"
          ],
          "name": "stderr"
        },
        {
          "output_type": "stream",
          "text": [
            "Epoch 146: Train loss 0.021398\n",
            "\n"
          ],
          "name": "stdout"
        },
        {
          "output_type": "stream",
          "text": [
            "\n",
            "  0%|          | 0/27 [00:00<?, ?it/s]"
          ],
          "name": "stderr"
        },
        {
          "output_type": "stream",
          "text": [
            "Valid loss: 0.9371\n",
            "\n",
            "Epoch: 147\n",
            "Learning rate = 0.001000\n",
            "\n"
          ],
          "name": "stdout"
        },
        {
          "output_type": "stream",
          "text": [
            "100%|██████████| 27/27 [00:01<00:00, 19.43it/s]"
          ],
          "name": "stderr"
        },
        {
          "output_type": "stream",
          "text": [
            "Epoch 147: Train loss 0.021182\n",
            "\n"
          ],
          "name": "stdout"
        },
        {
          "output_type": "stream",
          "text": [
            "\n",
            "  0%|          | 0/27 [00:00<?, ?it/s]"
          ],
          "name": "stderr"
        },
        {
          "output_type": "stream",
          "text": [
            "Valid loss: 0.9045\n",
            "\n",
            "Epoch: 148\n",
            "Learning rate = 0.001000\n",
            "\n"
          ],
          "name": "stdout"
        },
        {
          "output_type": "stream",
          "text": [
            "100%|██████████| 27/27 [00:01<00:00, 19.97it/s]"
          ],
          "name": "stderr"
        },
        {
          "output_type": "stream",
          "text": [
            "Epoch 148: Train loss 0.021219\n",
            "\n"
          ],
          "name": "stdout"
        },
        {
          "output_type": "stream",
          "text": [
            "\n",
            "  0%|          | 0/27 [00:00<?, ?it/s]"
          ],
          "name": "stderr"
        },
        {
          "output_type": "stream",
          "text": [
            "Valid loss: 0.9316\n",
            "\n",
            "Epoch: 149\n",
            "Learning rate = 0.001000\n",
            "\n"
          ],
          "name": "stdout"
        },
        {
          "output_type": "stream",
          "text": [
            "100%|██████████| 27/27 [00:01<00:00, 19.82it/s]"
          ],
          "name": "stderr"
        },
        {
          "output_type": "stream",
          "text": [
            "Epoch 149: Train loss 0.021044\n",
            "\n"
          ],
          "name": "stdout"
        },
        {
          "output_type": "stream",
          "text": [
            "\n"
          ],
          "name": "stderr"
        },
        {
          "output_type": "stream",
          "text": [
            "Valid loss: 0.8744\n"
          ],
          "name": "stdout"
        }
      ]
    },
    {
      "cell_type": "markdown",
      "metadata": {
        "id": "xPqORrYMYZRF"
      },
      "source": [
        "# 7. Run predictions for test images\r\n",
        "\r\n",
        "`/content/gdrive/My Drive/fundal_image/LadderNet/lib/extract_patches.py`\r\n",
        "\r\n",
        "Change line 339 to \r\n",
        "```\r\n",
        "new_data = np.zeros((data.shape[0],data.shape[1],int(new_img_h),(new_img_w) ))\r\n",
        "```\r\n",
        "\r\n",
        "Change line 307\r\n",
        "```\r\n",
        "full_recomp = np.empty((int(N_full_imgs), int(data.shape[1]), int(N_h*patch_h), int(N_w*patch_w) ))\r\n",
        "```\r\n",
        "\r\n",
        "`content/gdrive/My Drive/fundal_image/LadderNet/src/retinaNN_predict.py`\r\n",
        "\r\n",
        "Line 159 to\r\n",
        "```\r\n",
        "batch_size = 64\r\n",
        "```"
      ]
    },
    {
      "cell_type": "markdown",
      "metadata": {
        "id": "v1HTsQ5Kh9te"
      },
      "source": [
        "## Set configuration variables for running inference"
      ]
    },
    {
      "cell_type": "code",
      "metadata": {
        "id": "grYqJYJYE7WU"
      },
      "source": [
        "path_data = config.get('data paths', 'path_local')\n",
        "\n",
        "# original test images (for FOV selection)\n",
        "DRIVE_test_imgs_original = path_data + config.get('data paths', 'test_imgs_original')\n",
        "test_imgs_orig = load_hdf5(DRIVE_test_imgs_original)\n",
        "full_img_height = test_imgs_orig.shape[2]\n",
        "full_img_width = test_imgs_orig.shape[3]\n",
        "# the border masks provided by the DRIVE\n",
        "DRIVE_test_border_masks = path_data + config.get('data paths', 'test_border_masks')\n",
        "test_border_masks = load_hdf5(DRIVE_test_border_masks)\n",
        "# dimension of the patches\n",
        "patch_height = int(config.get('data attributes', 'patch_height'))\n",
        "patch_width = int(config.get('data attributes', 'patch_width'))\n",
        "# the stride in case output with average\n",
        "stride_height = int(config.get('testing settings', 'stride_height'))\n",
        "stride_width = int(config.get('testing settings', 'stride_width'))\n",
        "assert (stride_height < patch_height and stride_width < patch_width)\n",
        "\n",
        "\n",
        "# model name\n",
        "# name_experiment = config.get('experiment name', 'name')\n",
        "path_experiment = '../'  + name_experiment  + '/'\n",
        "# N full images to be predicted\n",
        "Imgs_to_test = int(config.get('testing settings', 'full_images_to_test'))\n",
        "# Grouping of the predicted images\n",
        "N_visual = int(config.get('testing settings', 'N_group_visual'))\n",
        "# ====== average mode ===========\n",
        "average_mode = config.getboolean('testing settings', 'average_mode')"
      ],
      "execution_count": 18,
      "outputs": []
    },
    {
      "cell_type": "markdown",
      "metadata": {
        "id": "EXoCaAtTjvDZ"
      },
      "source": [
        "## Define functions to generate test data"
      ]
    },
    {
      "cell_type": "code",
      "metadata": {
        "id": "Bx7ONi2Eijuc"
      },
      "source": [
        "# Divide all the full_imgs in pacthes\n",
        "def extract_ordered(full_imgs, patch_h, patch_w):\n",
        "    assert (len(full_imgs.shape)==4)  #4D arrays\n",
        "    assert (full_imgs.shape[1]==1 or full_imgs.shape[1]==3)  #check the channel is 1 or 3\n",
        "    img_h = full_imgs.shape[2]  #height of the full image\n",
        "    img_w = full_imgs.shape[3] #width of the full image\n",
        "    N_patches_h = int(img_h/patch_h) #round to lowest int\n",
        "    if (img_h%patch_h != 0):\n",
        "        print(\"warning: \" +str(N_patches_h) +\" patches in height, with about \" +str(img_h%patch_h) +\" pixels left over\")\n",
        "    N_patches_w = int(img_w/patch_w) #round to lowest int\n",
        "    if (img_h%patch_h != 0):\n",
        "        print(\"warning: \" +str(N_patches_w) +\" patches in width, with about \" +str(img_w%patch_w) +\" pixels left over\")\n",
        "    print(\"number of patches per image: \" +str(N_patches_h*N_patches_w))\n",
        "    N_patches_tot = (N_patches_h*N_patches_w)*full_imgs.shape[0]\n",
        "    patches = np.empty((N_patches_tot,full_imgs.shape[1],patch_h,patch_w))\n",
        "\n",
        "    iter_tot = 0   #iter over the total number of patches (N_patches)\n",
        "    for i in range(full_imgs.shape[0]):  #loop over the full images\n",
        "        for h in range(N_patches_h):\n",
        "            for w in range(N_patches_w):\n",
        "                patch = full_imgs[i,:,h*patch_h:(h*patch_h)+patch_h, w * patch_w:(w*patch_w)+patch_w]\n",
        "                patches[iter_tot]=patch\n",
        "                iter_tot +=1   #total\n",
        "    assert (iter_tot==N_patches_tot)\n",
        "    return patches  #array with all the full_imgs divided in patches\n",
        "\n",
        "# Extend the full images becasue patch divison is not exact\n",
        "def paint_border(data,patch_h,patch_w):\n",
        "    assert (len(data.shape)==4)  #4D arrays\n",
        "    assert (data.shape[1]==1 or data.shape[1]==3)  #check the channel is 1 or 3\n",
        "    img_h=data.shape[2]\n",
        "    img_w=data.shape[3]\n",
        "    if (img_h%patch_h)==0:\n",
        "        new_img_h = img_h\n",
        "    else:\n",
        "        new_img_h = ((int(img_h)/int(patch_h))+1)*patch_h\n",
        "    if (img_w%patch_w)==0:\n",
        "        new_img_w = img_w\n",
        "    else:\n",
        "        new_img_w = ((int(img_w)/int(patch_w))+1)*patch_w\n",
        "    new_data = np.zeros((data.shape[0], data.shape[1], int(new_img_h), int(new_img_w)))\n",
        "    new_data[:,:,0:img_h,0:img_w] = data[:,:,:,:]\n",
        "    return new_data\n",
        "\n",
        "# Load the original data and return the extracted patches for testing\n",
        "def get_data_testing(DRIVE_test_imgs_original, DRIVE_test_groudTruth, Imgs_to_test, patch_height, patch_width):\n",
        "    \"\"\"\n",
        "    Load the original test images and ground truth, extract patches  and return the extracted patches for testing\n",
        "    :param DRIVE_test_imgs_original: \n",
        "    :param DRIVE_test_groudTruth: \n",
        "    :param Imgs_to_test: \n",
        "    :param patch_height: \n",
        "    :param patch_width: \n",
        "    :return: \n",
        "    \"\"\"\n",
        "\n",
        "    test_imgs_original = load_hdf5(DRIVE_test_imgs_original)\n",
        "    gt_images = load_hdf5(DRIVE_test_groudTruth)\n",
        "\n",
        "    test_imgs = my_PreProc(test_imgs_original)\n",
        "    gt_images = gt_images / 255.\n",
        "\n",
        "    # extend both images and masks so they can be divided exactly by the patches dimensions\n",
        "    test_imgs = test_imgs[0:Imgs_to_test, :, :, :]\n",
        "    gt_images = gt_images[0:Imgs_to_test, :, :, :]\n",
        "    test_imgs = paint_border(test_imgs, patch_height, patch_width)\n",
        "    gt_images = paint_border(gt_images, patch_height, patch_width)\n",
        "\n",
        "    data_consistency_check(test_imgs, gt_images)\n",
        "\n",
        "    # check masks are within 0-1\n",
        "    assert (np.max(gt_images) == 1 and np.min(gt_images) == 0)\n",
        "\n",
        "    print(\"\\ntest images/masks shape:\")\n",
        "    print(test_imgs.shape)\n",
        "    print(\"test images range (min-max): \" + str(np.min(test_imgs)) + ' - ' + str(np.max(test_imgs)))\n",
        "    print(\"test masks are within 0-1\\n\")\n",
        "\n",
        "    # extract the TEST patches from the full images\n",
        "    patches_imgs_test = extract_ordered(test_imgs, patch_height, patch_width)\n",
        "    patches_masks_test = extract_ordered(gt_images, patch_height, patch_width)\n",
        "    data_consistency_check(patches_imgs_test, patches_masks_test)\n",
        "\n",
        "    print(\"\\ntest PATCHES images/masks shape:\")\n",
        "    print(patches_imgs_test.shape)\n",
        "    print(\"test PATCHES images range (min-max): \" + str(np.min(patches_imgs_test)) + ' - ' + str(\n",
        "        np.max(patches_imgs_test)))\n",
        "\n",
        "    return patches_imgs_test, patches_masks_test\n"
      ],
      "execution_count": 19,
      "outputs": []
    },
    {
      "cell_type": "markdown",
      "metadata": {
        "id": "1xEQV6mpmhkE"
      },
      "source": [
        "## Load the test data and divide into patches"
      ]
    },
    {
      "cell_type": "code",
      "metadata": {
        "colab": {
          "base_uri": "https://localhost:8080/"
        },
        "id": "PmWl7K93iQa3",
        "outputId": "1a1bdc0f-813e-4a55-b63b-363444097bdb"
      },
      "source": [
        "patches_imgs_test = None\n",
        "new_height = None\n",
        "new_width = None\n",
        "masks_test  = None\n",
        "patches_gt_test = None\n",
        "if average_mode:\n",
        "    patches_imgs_test, new_height, new_width, masks_test = get_data_testing_overlap(\n",
        "        DRIVE_test_imgs_original = DRIVE_test_imgs_original,  #original\n",
        "        DRIVE_test_groudTruth = path_data + config.get('data paths', 'test_groundTruth'),  #gt\n",
        "        Imgs_to_test = int(config.get('testing settings', 'full_images_to_test')),\n",
        "        patch_height = patch_height,\n",
        "        patch_width = patch_width,\n",
        "        stride_height = stride_height,\n",
        "        stride_width = stride_width\n",
        "    )\n",
        "else:\n",
        "    patches_imgs_test, patches_gt_test = get_data_testing(\n",
        "        DRIVE_test_imgs_original = DRIVE_test_imgs_original,  #original\n",
        "        DRIVE_test_groudTruth = path_data + config.get('data paths', 'test_groundTruth'),  #gt\n",
        "        Imgs_to_test = int(config.get('testing settings', 'full_images_to_test')),\n",
        "        patch_height = patch_height,\n",
        "        patch_width = patch_width,\n",
        "    )"
      ],
      "execution_count": 20,
      "outputs": [
        {
          "output_type": "stream",
          "text": [
            "\n",
            "test images/masks shape:\n",
            "(20, 1, 632, 613)\n",
            "test images range (min-max): 0.0 - 1.0\n",
            "test masks are within 0-1\n",
            "\n",
            "warning: 13 patches in height, with about 8 pixels left over\n",
            "warning: 12 patches in width, with about 37 pixels left over\n",
            "number of patches per image: 156\n",
            "warning: 13 patches in height, with about 8 pixels left over\n",
            "warning: 12 patches in width, with about 37 pixels left over\n",
            "number of patches per image: 156\n",
            "\n",
            "test PATCHES images/masks shape:\n",
            "(3120, 1, 48, 48)\n",
            "test PATCHES images range (min-max): 0.0 - 1.0\n"
          ],
          "name": "stdout"
        }
      ]
    },
    {
      "cell_type": "markdown",
      "metadata": {
        "id": "dyh3hHInmCdt"
      },
      "source": [
        "## Run the prediction for the patches\n"
      ]
    },
    {
      "cell_type": "code",
      "metadata": {
        "colab": {
          "base_uri": "https://localhost:8080/"
        },
        "id": "wqrdGKbpkFVJ",
        "outputId": "22f89acf-8328-4317-e417-e98230046dcf"
      },
      "source": [
        "best_last = config.get('testing settings', 'best_last')\n",
        "\n",
        "layers= 4\n",
        "filters = 10\n",
        "check_path = 'LadderNetv65_layer_%d_filter_%d.pt7'% (layers, filters) #'UNet16.pt7'#'UNet_Resnet101.pt7'\n",
        "net = LadderNetv6(num_classes=2, layers=layers, filters=filters, inplanes=1)\n",
        "device = 'cuda' if torch.cuda.is_available() else 'cpu'\n",
        "\n",
        "resume = True\n",
        "\n",
        "if device == 'cuda':\n",
        "    net.cuda()\n",
        "    net = torch.nn.DataParallel(net, device_ids=range(torch.cuda.device_count()))\n",
        "    cudnn.benchmark = True\n",
        "\n",
        "if resume:\n",
        "    # Load checkpoint.\n",
        "    print('==> Resuming from checkpoint..')\n",
        "    assert os.path.isdir('checkpoint'), 'Error: no checkpoint directory found!'\n",
        "    checkpoint = torch.load('./checkpoint/'+check_path)\n",
        "    net.load_state_dict(checkpoint['net'])\n",
        "    start_epoch = checkpoint['epoch']\n",
        "\n",
        "class TrainDataset(Dataset):\n",
        "    \"\"\"Endovis 2018 dataset.\"\"\"\n",
        "\n",
        "    def __init__(self, patches_imgs):\n",
        "        self.imgs = patches_imgs\n",
        "\n",
        "    def __len__(self):\n",
        "        return self.imgs.shape[0]\n",
        "\n",
        "    def __getitem__(self, idx):\n",
        "        return torch.from_numpy(self.imgs[idx,...]).float()\n",
        "\n",
        "test_set = TrainDataset(patches_imgs_test)\n",
        "test_loader = DataLoader(test_set, batch_size=batch_size,\n",
        "                          shuffle=False, num_workers=4)\n",
        "\n",
        "preds = []\n",
        "for batch_idx, inputs in enumerate((test_loader)):\n",
        "    inputs = inputs.to(device)\n",
        "    outputs = net(inputs)\n",
        "    outputs = torch.nn.functional.softmax(outputs,dim=1)\n",
        "    outputs = outputs.permute(0, 2, 3, 1)\n",
        "    shape = list(outputs.shape)\n",
        "    outputs = outputs.view(-1,shape[1]*shape[2], 2)\n",
        "\n",
        "    outputs = outputs.data.cpu().numpy()\n",
        "    preds.append(outputs)\n",
        "\n",
        "predictions = np.concatenate(preds,axis=0)\n",
        "print(\"Predictions finished\")\n"
      ],
      "execution_count": 21,
      "outputs": [
        {
          "output_type": "stream",
          "text": [
            "==> Resuming from checkpoint..\n"
          ],
          "name": "stdout"
        },
        {
          "output_type": "stream",
          "text": [
            "/usr/local/lib/python3.7/dist-packages/torch/utils/data/dataloader.py:477: UserWarning: This DataLoader will create 4 worker processes in total. Our suggested max number of worker in current system is 2, which is smaller than what this DataLoader is going to create. Please be aware that excessive worker creation might get DataLoader running slow or even freeze, lower the worker number to avoid potential slowness/freeze if necessary.\n",
            "  cpuset_checked))\n"
          ],
          "name": "stderr"
        },
        {
          "output_type": "stream",
          "text": [
            "Predictions finished\n"
          ],
          "name": "stdout"
        }
      ]
    },
    {
      "cell_type": "markdown",
      "metadata": {
        "id": "bolCK3YimLBO"
      },
      "source": [
        "## Convert the predicted arrays to corresponding image patches\n"
      ]
    },
    {
      "cell_type": "code",
      "metadata": {
        "id": "76l-B51dmQuh",
        "colab": {
          "base_uri": "https://localhost:8080/"
        },
        "outputId": "a1c4b211-a350-4338-ac49-4e51429893f2"
      },
      "source": [
        "# ===== Convert the prediction arrays in corresponding images\n",
        "print(f\"Shape of predictions from Laddernet  {predictions.shape}\")\n",
        "pred_patches = pred_to_imgs(predictions, patch_height, patch_width, \"original\")\n",
        "print(f\"Shape of predicted images {pred_patches.shape}\")\n"
      ],
      "execution_count": 22,
      "outputs": [
        {
          "output_type": "stream",
          "text": [
            "Shape of predictions from Laddernet  (3120, 2304, 2)\n",
            "Shape of predicted images (3120, 1, 48, 48)\n"
          ],
          "name": "stdout"
        }
      ]
    },
    {
      "cell_type": "markdown",
      "metadata": {
        "id": "0cWOOc4emrtz"
      },
      "source": [
        "## Tile the patches to create full image"
      ]
    },
    {
      "cell_type": "code",
      "metadata": {
        "id": "4ppnoZSrnSay"
      },
      "source": [
        "def tile_patches(data,N_h,N_w):\n",
        "    assert (data.shape[1]==1 or data.shape[1]==3)  #check the channel is 1 or 3\n",
        "    assert(len(data.shape)==4)\n",
        "    N_pacth_per_img = N_w*N_h\n",
        "    assert(data.shape[0]%N_pacth_per_img == 0)\n",
        "    N_full_imgs = data.shape[0]/N_pacth_per_img\n",
        "    patch_h = data.shape[2]\n",
        "    patch_w = data.shape[3]\n",
        "    N_pacth_per_img = N_w*N_h\n",
        "    # define and start full recompone\n",
        "    full_recomp = np.empty((int(N_full_imgs),data.shape[1], int(N_h*patch_h), int(N_w*patch_w)) )\n",
        "    k = 0  # iter full img\n",
        "    s = 0  # iter single patch\n",
        "    while (s<data.shape[0]):\n",
        "        #recompone one:\n",
        "        single_recon = np.empty((data.shape[1],N_h*patch_h,N_w*patch_w))\n",
        "        for h in range(N_h):\n",
        "            for w in range(N_w):\n",
        "                single_recon[:,h*patch_h:(h*patch_h)+patch_h, w*patch_w:(w*patch_w)+patch_w]=data[s]\n",
        "                s+=1\n",
        "        full_recomp[k]=single_recon\n",
        "        k+=1\n",
        "    assert (k==N_full_imgs)\n",
        "    return full_recomp"
      ],
      "execution_count": 23,
      "outputs": []
    },
    {
      "cell_type": "code",
      "metadata": {
        "id": "nVlz2U2Zn2G5"
      },
      "source": [
        "# function to set to black everything outside the FOV, in a full image\n",
        "def kill_border(data, original_imgs_border_masks):\n",
        "    assert (len(data.shape)==4)  #4D arrays\n",
        "    assert (data.shape[1]==1 or data.shape[1]==3)  #check the channel is 1 or 3\n",
        "    height = data.shape[2]\n",
        "    width = data.shape[3]\n",
        "    for i in range(data.shape[0]):  #loop over the full images\n",
        "        for x in range(width):\n",
        "            for y in range(height):\n",
        "                if inside_FOV_DRIVE(i,x,y,original_imgs_border_masks)==False:\n",
        "                    data[i,:,y,x]=0.0\n",
        "\n",
        "def inside_FOV_DRIVE(i, x, y, DRIVE_masks):\n",
        "    assert (len(DRIVE_masks.shape)==4)  #4D arrays\n",
        "    assert (DRIVE_masks.shape[1]==1)  #DRIVE masks is black and white\n",
        "    # DRIVE_masks = DRIVE_masks/255.  #NOOO!! otherwise with float numbers takes forever!!\n",
        "\n",
        "    if (x >= DRIVE_masks.shape[3] or y >= DRIVE_masks.shape[2]): #my image bigger than the original\n",
        "        return False\n",
        "\n",
        "    if (DRIVE_masks[i,0,y,x]>0):  #0==black pixels\n",
        "        # print DRIVE_masks[i,0,y,x]  #verify it is working right\n",
        "        return True\n",
        "    else:\n",
        "        return False"
      ],
      "execution_count": 24,
      "outputs": []
    },
    {
      "cell_type": "code",
      "metadata": {
        "colab": {
          "base_uri": "https://localhost:8080/"
        },
        "id": "IaVi5B2dmlvo",
        "outputId": "2d96dcb2-daab-473d-cfd3-89c9ad3debe5"
      },
      "source": [
        "#========== Elaborate and visualize the predicted images ====================\n",
        "pred_imgs = None\n",
        "orig_imgs = None\n",
        "gtruth_masks = None\n",
        "if average_mode == True:\n",
        "    pred_imgs = recompone_overlap(pred_patches, new_height, new_width, stride_height, stride_width)# predictions\n",
        "    orig_imgs = my_PreProc(test_imgs_orig[0:pred_imgs.shape[0],:,:,:])    #originals\n",
        "    gtruth_masks = masks_test  #ground truth masks\n",
        "else:\n",
        "    pred_imgs = tile_patches(pred_patches,13,12)       # predictions\n",
        "    orig_imgs = tile_patches(patches_imgs_test,13,12)  # originals\n",
        "    gtruth_masks = tile_patches(patches_gt_test,13,12)  #gt\n",
        "# apply the DRIVE masks on the repdictions #set everything outside the FOV to zero!!\n",
        "kill_border(pred_imgs, test_border_masks)  #DRIVE MASK  #only for visualization\n",
        "## back to original dimensions\n",
        "orig_imgs = orig_imgs[:,:,0:full_img_height,0:full_img_width]\n",
        "pred_imgs = pred_imgs[:,:,0:full_img_height,0:full_img_width]\n",
        "gtruth_masks = gtruth_masks[:,:,0:full_img_height,0:full_img_width]\n",
        "print(\"Orig imgs shape: \" +str(orig_imgs.shape))\n",
        "print(\"pred imgs shape: \" +str(pred_imgs.shape))\n",
        "print(\"Gtruth imgs shape: \" +str(gtruth_masks.shape))\n",
        "visualize(group_images(orig_imgs,N_visual),path_experiment+\"all_originals\")#.show()\n",
        "visualize(group_images(pred_imgs,N_visual),path_experiment+\"all_predictions\")#.show()\n",
        "visualize(group_images(gtruth_masks,N_visual),path_experiment+\"all_groundTruths\")#.show()\n",
        "\n",
        "# visualize results comparing mask and prediction:\n",
        "assert (orig_imgs.shape[0]==pred_imgs.shape[0] and orig_imgs.shape[0]==gtruth_masks.shape[0])\n",
        "N_predicted = orig_imgs.shape[0]\n",
        "group = N_visual\n",
        "assert (N_predicted%group==0)\n",
        "for i in range(int(N_predicted/group)):\n",
        "    orig_stripe = group_images(orig_imgs[i*group:(i*group)+group,:,:,:],group)\n",
        "    masks_stripe = group_images(gtruth_masks[i*group:(i*group)+group,:,:,:],group)\n",
        "    pred_stripe = group_images(pred_imgs[i*group:(i*group)+group,:,:,:],group)\n",
        "    total_img = np.concatenate((orig_stripe,masks_stripe,pred_stripe),axis=0)\n",
        "    visualize(total_img,path_experiment+name_experiment +\"_Original_GroundTruth_Prediction\"+str(i))#.show()"
      ],
      "execution_count": 25,
      "outputs": [
        {
          "output_type": "stream",
          "text": [
            "Orig imgs shape: (20, 1, 584, 565)\n",
            "pred imgs shape: (20, 1, 584, 565)\n",
            "Gtruth imgs shape: (20, 1, 584, 565)\n"
          ],
          "name": "stdout"
        }
      ]
    },
    {
      "cell_type": "code",
      "metadata": {
        "id": "_p4-_DzTpJrx"
      },
      "source": [
        "# return only the pixels contained in the FOV, for both images and masks\n",
        "def pred_only_FOV(data_imgs,data_masks,original_imgs_border_masks):\n",
        "    assert (len(data_imgs.shape)==4 and len(data_masks.shape)==4)  #4D arrays\n",
        "    assert (data_imgs.shape[0]==data_masks.shape[0])\n",
        "    assert (data_imgs.shape[2]==data_masks.shape[2])\n",
        "    assert (data_imgs.shape[3]==data_masks.shape[3])\n",
        "    assert (data_imgs.shape[1]==1 and data_masks.shape[1]==1)  #check the channel is 1\n",
        "    height = data_imgs.shape[2]\n",
        "    width = data_imgs.shape[3]\n",
        "    new_pred_imgs = []\n",
        "    new_pred_masks = []\n",
        "    for i in range(data_imgs.shape[0]):  #loop over the full images\n",
        "        for x in range(width):\n",
        "            for y in range(height):\n",
        "                if inside_FOV_DRIVE(i,x,y,original_imgs_border_masks)==True:\n",
        "                    new_pred_imgs.append(data_imgs[i,:,y,x])\n",
        "                    new_pred_masks.append(data_masks[i,:,y,x])\n",
        "    new_pred_imgs = np.asarray(new_pred_imgs)\n",
        "    new_pred_masks = np.asarray(new_pred_masks)\n",
        "    return new_pred_imgs, new_pred_masks"
      ],
      "execution_count": 26,
      "outputs": []
    },
    {
      "cell_type": "code",
      "metadata": {
        "colab": {
          "base_uri": "https://localhost:8080/",
          "height": 1000
        },
        "id": "3yJ_fIQdnBJk",
        "outputId": "5e994ae7-edc8-469b-fbb7-88903bc7db33"
      },
      "source": [
        "\n",
        "#scikit learn\n",
        "from sklearn.metrics import roc_curve\n",
        "from sklearn.metrics import roc_auc_score\n",
        "from sklearn.metrics import confusion_matrix\n",
        "from sklearn.metrics import precision_recall_curve\n",
        "from sklearn.metrics import jaccard_similarity_score\n",
        "from sklearn.metrics import f1_score\n",
        "\n",
        "# ====== Evaluate the results\n",
        "print(\"\\n\\n========  Evaluate the results =======================\")\n",
        "#predictions only inside the FOV\n",
        "y_scores, y_true = pred_only_FOV(pred_imgs,gtruth_masks, test_border_masks)  #returns data only inside the FOV\n",
        "print(\"Calculating results only inside the FOV:\")\n",
        "print(\"y scores pixels: \" +str(y_scores.shape[0]) +\" (radius 270: 270*270*3.14==228906), including background around retina: \" +str(pred_imgs.shape[0]*pred_imgs.shape[2]*pred_imgs.shape[3]) +\" (584*565==329960)\")\n",
        "print(\"y true pixels: \" +str(y_true.shape[0]) +\" (radius 270: 270*270*3.14==228906), including background around retina: \" +str(gtruth_masks.shape[2]*gtruth_masks.shape[3]*gtruth_masks.shape[0])+\" (584*565==329960)\")\n",
        "\n",
        "# Area under the ROC curve\n",
        "fpr, tpr, thresholds = roc_curve((y_true), y_scores)\n",
        "AUC_ROC = roc_auc_score(y_true, y_scores)\n",
        "# test_integral = np.trapz(tpr,fpr) #trapz is numpy integration\n",
        "print(\"\\nArea under the ROC curve: \" +str(AUC_ROC))\n",
        "roc_curve =plt.figure()\n",
        "plt.plot(fpr,tpr,'-',label='Area Under the Curve (AUC = %0.4f)' % AUC_ROC)\n",
        "plt.title('ROC curve')\n",
        "plt.xlabel(\"FPR (False Positive Rate)\")\n",
        "plt.ylabel(\"TPR (True Positive Rate)\")\n",
        "plt.legend(loc=\"lower right\")\n",
        "plt.savefig(path_experiment+\"ROC.png\")\n",
        "\n",
        "#Precision-recall curve\n",
        "precision, recall, thresholds = precision_recall_curve(y_true, y_scores)\n",
        "precision = np.fliplr([precision])[0]  #so the array is increasing (you won't get negative AUC)\n",
        "recall = np.fliplr([recall])[0]  #so the array is increasing (you won't get negative AUC)\n",
        "AUC_prec_rec = np.trapz(precision,recall)\n",
        "print(\"\\nArea under Precision-Recall curve: \" +str(AUC_prec_rec))\n",
        "prec_rec_curve = plt.figure()\n",
        "plt.plot(recall,precision,'-',label='Area Under the Curve (AUC = %0.4f)' % AUC_prec_rec)\n",
        "plt.title('Precision - Recall curve')\n",
        "plt.xlabel(\"Recall\")\n",
        "plt.ylabel(\"Precision\")\n",
        "plt.legend(loc=\"lower right\")\n",
        "plt.savefig(path_experiment+\"Precision_recall.png\")\n",
        "\n",
        "#Confusion matrix\n",
        "threshold_confusion = 0.5\n",
        "print(\"\\nConfusion matrix:  Costum threshold (for positive) of \" +str(threshold_confusion))\n",
        "y_pred = np.empty((y_scores.shape[0]))\n",
        "for i in range(y_scores.shape[0]):\n",
        "    if y_scores[i]>=threshold_confusion:\n",
        "        y_pred[i]=1\n",
        "    else:\n",
        "        y_pred[i]=0\n",
        "confusion = confusion_matrix(y_true, y_pred)\n",
        "print(confusion)\n",
        "accuracy = 0\n",
        "if float(np.sum(confusion))!=0:\n",
        "    accuracy = float(confusion[0,0]+confusion[1,1])/float(np.sum(confusion))\n",
        "print(\"Global Accuracy: \" +str(accuracy))\n",
        "specificity = 0\n",
        "if float(confusion[0,0]+confusion[0,1])!=0:\n",
        "    specificity = float(confusion[0,0])/float(confusion[0,0]+confusion[0,1])\n",
        "print(\"Specificity: \" +str(specificity))\n",
        "sensitivity = 0\n",
        "if float(confusion[1,1]+confusion[1,0])!=0:\n",
        "    sensitivity = float(confusion[1,1])/float(confusion[1,1]+confusion[1,0])\n",
        "print(\"Sensitivity: \" +str(sensitivity))\n",
        "precision = 0\n",
        "if float(confusion[1,1]+confusion[0,1])!=0:\n",
        "    precision = float(confusion[1,1])/float(confusion[1,1]+confusion[0,1])\n",
        "print(\"Precision: \" +str(precision))\n",
        "\n",
        "# Jaccard similarity index\n",
        "jaccard_index = jaccard_similarity_score(y_true, y_pred, normalize=True)\n",
        "print(\"\\nJaccard similarity score: \" +str(jaccard_index))\n",
        "\n",
        "# F1 score\n",
        "F1_score = f1_score(y_true, y_pred, labels=None, average='binary', sample_weight=None)\n",
        "print(\"\\nF1 score (F-measure): \" +str(F1_score))\n"
      ],
      "execution_count": 27,
      "outputs": [
        {
          "output_type": "stream",
          "text": [
            "\n",
            "\n",
            "========  Evaluate the results =======================\n",
            "Calculating results only inside the FOV:\n",
            "y scores pixels: 4538143 (radius 270: 270*270*3.14==228906), including background around retina: 6599200 (584*565==329960)\n",
            "y true pixels: 4538143 (radius 270: 270*270*3.14==228906), including background around retina: 6599200 (584*565==329960)\n",
            "\n",
            "Area under the ROC curve: 0.9547371142647583\n",
            "\n",
            "Area under Precision-Recall curve: 0.8470494853956675\n",
            "\n",
            "Confusion matrix:  Costum threshold (for positive) of 0.5\n",
            "[[3873573   86921]\n",
            " [ 167188  410461]]\n",
            "Global Accuracy: 0.9440059513329571\n",
            "Specificity: 0.9780529903592835\n",
            "Sensitivity: 0.7105716447185055\n",
            "Precision: 0.825242972202452\n"
          ],
          "name": "stdout"
        },
        {
          "output_type": "stream",
          "text": [
            "/usr/local/lib/python3.7/dist-packages/sklearn/metrics/_classification.py:664: FutureWarning: jaccard_similarity_score has been deprecated and replaced with jaccard_score. It will be removed in version 0.23. This implementation has surprising behavior for binary and multiclass classification tasks.\n",
            "  FutureWarning)\n"
          ],
          "name": "stderr"
        },
        {
          "output_type": "stream",
          "text": [
            "\n",
            "Jaccard similarity score: 0.9440059513329571\n",
            "\n",
            "F1 score (F-measure): 0.7636263512401037\n"
          ],
          "name": "stdout"
        },
        {
          "output_type": "display_data",
          "data": {
            "image/png": "[encoded data removed]",
            "text/plain": [
              "<Figure size 432x288 with 1 Axes>"
            ]
          },
          "metadata": {
            "tags": [],
            "needs_background": "light"
          }
        },
        {
          "output_type": "display_data",
          "data": {
            "image/png": "[encoded data removed]",
            "text/plain": [
              "<Figure size 432x288 with 1 Axes>"
            ]
          },
          "metadata": {
            "tags": [],
            "needs_background": "light"
          }
        }
      ]
    },
    {
      "cell_type": "markdown",
      "metadata": {
        "id": "BJuaiJ92o7by"
      },
      "source": [
        "## Save results"
      ]
    },
    {
      "cell_type": "code",
      "metadata": {
        "id": "8E9_VwtmbZv2"
      },
      "source": [
        "# Save the results\n",
        "file_perf = open(path_experiment + 'performances.txt', 'w')\n",
        "file_perf.write(\"Area under the ROC curve: \"+str(AUC_ROC)\n",
        "                + \"\\nArea under Precision-Recall curve: \" +str(AUC_prec_rec)\n",
        "                + \"\\nJaccard similarity score: \" +str(jaccard_index)\n",
        "                + \"\\nF1 score (F-measure): \" +str(F1_score)\n",
        "                +\"\\n\\nConfusion matrix:\"\n",
        "                +str(confusion)\n",
        "                +\"\\nACCURACY: \" +str(accuracy)\n",
        "                +\"\\nSENSITIVITY: \" +str(sensitivity)\n",
        "                +\"\\nSPECIFICITY: \" +str(specificity)\n",
        "                +\"\\nPRECISION: \" +str(precision)\n",
        "                )\n",
        "file_perf.close()"
      ],
      "execution_count": 28,
      "outputs": []
    },
    {
      "cell_type": "markdown",
      "metadata": {
        "id": "-D4dnTRsbxfg"
      },
      "source": [
        "# 8. Visualize the predicted results"
      ]
    },
    {
      "cell_type": "code",
      "metadata": {
        "colab": {
          "base_uri": "https://localhost:8080/"
        },
        "id": "Ti7k-2yrbUQV",
        "outputId": "4a1df75a-c14c-4218-ed12-0f1fee604675"
      },
      "source": [
        "!ls ../test/"
      ],
      "execution_count": 29,
      "outputs": [
        {
          "output_type": "stream",
          "text": [
            "all_groundTruths.png\n",
            "all_originals.png\n",
            "all_predictions.png\n",
            "drive_performances.txt\n",
            "DRIVE_Precision_recall.png\n",
            "DRIVE_ROC.png\n",
            "performances.txt\n",
            "Precision_recall.png\n",
            "ROC.png\n",
            "sample_input_imgs.png\n",
            "sample_input_masks.png\n",
            "test_architecture.json\n",
            "test_best_weights.h5\n",
            "test_configuration.txt\n",
            "test_last_weights.h5\n",
            "test_model.png\n",
            "test_Original_GroundTruth_Prediction0.png\n",
            "test_Original_GroundTruth_Prediction10.png\n",
            "test_Original_GroundTruth_Prediction11.png\n",
            "test_Original_GroundTruth_Prediction12.png\n",
            "test_Original_GroundTruth_Prediction13.png\n",
            "test_Original_GroundTruth_Prediction14.png\n",
            "test_Original_GroundTruth_Prediction15.png\n",
            "test_Original_GroundTruth_Prediction16.png\n",
            "test_Original_GroundTruth_Prediction17.png\n",
            "test_Original_GroundTruth_Prediction18.png\n",
            "test_Original_GroundTruth_Prediction19.png\n",
            "test_Original_GroundTruth_Prediction1.png\n",
            "test_Original_GroundTruth_Prediction2.png\n",
            "test_Original_GroundTruth_Prediction3.png\n",
            "test_Original_GroundTruth_Prediction4.png\n",
            "test_Original_GroundTruth_Prediction5.png\n",
            "test_Original_GroundTruth_Prediction6.png\n",
            "test_Original_GroundTruth_Prediction7.png\n",
            "test_Original_GroundTruth_Prediction8.png\n",
            "test_Original_GroundTruth_Prediction9.png\n",
            "test_training.nohup\n"
          ],
          "name": "stdout"
        }
      ]
    },
    {
      "cell_type": "code",
      "metadata": {
        "colab": {
          "base_uri": "https://localhost:8080/",
          "height": 1000
        },
        "id": "vzZDoZsT_bhX",
        "outputId": "6e061261-c70a-4f8e-c0e9-3cb331cfd347"
      },
      "source": [
        "from IPython.display import Image\n",
        "Image('../test/test_Original_GroundTruth_Prediction0.png')"
      ],
      "execution_count": 30,
      "outputs": [
        {
          "output_type": "execute_result",
          "data": {
            "image/png": "[encoded data removed]",
            "text/plain": [
              "<IPython.core.display.Image object>"
            ]
          },
          "metadata": {
            "tags": []
          },
          "execution_count": 30
        }
      ]
    },
    {
      "cell_type": "code",
      "metadata": {
        "id": "LGC48HkNTmNr"
      },
      "source": [
        ""
      ],
      "execution_count": null,
      "outputs": []
    }
  ]
}